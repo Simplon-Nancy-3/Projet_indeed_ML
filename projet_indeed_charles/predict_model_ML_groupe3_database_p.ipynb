{
 "cells": [
  {
   "cell_type": "code",
   "execution_count": 37,
   "metadata": {},
   "outputs": [],
   "source": [
    "import numpy as np\n",
    "import pandas as pd\n",
    "import pandas as pd\n",
    "from IPython.display import Markdown, display\n",
    "from sklearn.model_selection import train_test_split\n",
    "import matplotlib.pyplot as plt\n",
    "from sklearn.metrics import roc_curve, auc\n",
    "import numpy as np\n",
    "from sklearn import metrics    \n",
    "from sklearn.linear_model import LogisticRegression\n",
    "from sklearn import svm\n",
    "from sklearn import tree\n",
    "from sklearn.ensemble import RandomForestClassifier\n",
    "from sklearn.neural_network import MLPClassifier\n",
    "from sklearn.ensemble import AdaBoostClassifier\n",
    "from sklearn.model_selection import cross_val_score\n",
    "from sklearn.metrics import accuracy_score, r2_score\n",
    "from sklearn.metrics import roc_curve, auc\n",
    "from sklearn.preprocessing import label_binarize"
   ]
  },
  {
   "cell_type": "code",
   "execution_count": 2,
   "metadata": {},
   "outputs": [],
   "source": [
    "data = pd.read_csv('/Users/charleshajjar/OneDrive/indeed-master/csv/jobs_it_ml.csv')"
   ]
  },
  {
   "cell_type": "code",
   "execution_count": 3,
   "metadata": {},
   "outputs": [],
   "source": [
    "data = data[data.salary_mean.notnull()]\n"
   ]
  },
  {
   "cell_type": "code",
   "execution_count": 4,
   "metadata": {},
   "outputs": [],
   "source": [
    "data = data[data.dep.notnull()]"
   ]
  },
  {
   "cell_type": "code",
   "execution_count": 5,
   "metadata": {},
   "outputs": [
    {
     "data": {
      "text/html": [
       "<div>\n",
       "<style scoped>\n",
       "    .dataframe tbody tr th:only-of-type {\n",
       "        vertical-align: middle;\n",
       "    }\n",
       "\n",
       "    .dataframe tbody tr th {\n",
       "        vertical-align: top;\n",
       "    }\n",
       "\n",
       "    .dataframe thead th {\n",
       "        text-align: right;\n",
       "    }\n",
       "</style>\n",
       "<table border=\"1\" class=\"dataframe\">\n",
       "  <thead>\n",
       "    <tr style=\"text-align: right;\">\n",
       "      <th></th>\n",
       "      <th>salary_mean</th>\n",
       "      <th>salary_band</th>\n",
       "      <th>dep</th>\n",
       "      <th>query_developpeur</th>\n",
       "      <th>query_data+scientist</th>\n",
       "      <th>query_business+intelligence</th>\n",
       "      <th>query_data+analyst</th>\n",
       "      <th>contract_commission</th>\n",
       "      <th>contract_cdi</th>\n",
       "      <th>contract_intérim</th>\n",
       "      <th>...</th>\n",
       "      <th>éol</th>\n",
       "      <th>éolien</th>\n",
       "      <th>éolienne</th>\n",
       "      <th>épargne</th>\n",
       "      <th>équipe</th>\n",
       "      <th>étud</th>\n",
       "      <th>étude</th>\n",
       "      <th>études</th>\n",
       "      <th>évaluation</th>\n",
       "      <th>être</th>\n",
       "    </tr>\n",
       "  </thead>\n",
       "  <tbody>\n",
       "    <tr>\n",
       "      <th>5</th>\n",
       "      <td>40458.0</td>\n",
       "      <td>1.0</td>\n",
       "      <td>75.0</td>\n",
       "      <td>0</td>\n",
       "      <td>1</td>\n",
       "      <td>0</td>\n",
       "      <td>0</td>\n",
       "      <td>0</td>\n",
       "      <td>1</td>\n",
       "      <td>0</td>\n",
       "      <td>...</td>\n",
       "      <td>0</td>\n",
       "      <td>0</td>\n",
       "      <td>0</td>\n",
       "      <td>0</td>\n",
       "      <td>0</td>\n",
       "      <td>0</td>\n",
       "      <td>0</td>\n",
       "      <td>0</td>\n",
       "      <td>0</td>\n",
       "      <td>0</td>\n",
       "    </tr>\n",
       "    <tr>\n",
       "      <th>9</th>\n",
       "      <td>48000.0</td>\n",
       "      <td>1.0</td>\n",
       "      <td>67.0</td>\n",
       "      <td>0</td>\n",
       "      <td>1</td>\n",
       "      <td>0</td>\n",
       "      <td>0</td>\n",
       "      <td>0</td>\n",
       "      <td>1</td>\n",
       "      <td>0</td>\n",
       "      <td>...</td>\n",
       "      <td>0</td>\n",
       "      <td>0</td>\n",
       "      <td>0</td>\n",
       "      <td>0</td>\n",
       "      <td>0</td>\n",
       "      <td>0</td>\n",
       "      <td>0</td>\n",
       "      <td>0</td>\n",
       "      <td>0</td>\n",
       "      <td>0</td>\n",
       "    </tr>\n",
       "    <tr>\n",
       "      <th>16</th>\n",
       "      <td>60000.0</td>\n",
       "      <td>1.0</td>\n",
       "      <td>33.0</td>\n",
       "      <td>0</td>\n",
       "      <td>1</td>\n",
       "      <td>0</td>\n",
       "      <td>0</td>\n",
       "      <td>0</td>\n",
       "      <td>0</td>\n",
       "      <td>0</td>\n",
       "      <td>...</td>\n",
       "      <td>0</td>\n",
       "      <td>0</td>\n",
       "      <td>0</td>\n",
       "      <td>0</td>\n",
       "      <td>0</td>\n",
       "      <td>0</td>\n",
       "      <td>0</td>\n",
       "      <td>0</td>\n",
       "      <td>0</td>\n",
       "      <td>0</td>\n",
       "    </tr>\n",
       "    <tr>\n",
       "      <th>17</th>\n",
       "      <td>60000.0</td>\n",
       "      <td>1.0</td>\n",
       "      <td>94.0</td>\n",
       "      <td>0</td>\n",
       "      <td>1</td>\n",
       "      <td>0</td>\n",
       "      <td>0</td>\n",
       "      <td>0</td>\n",
       "      <td>0</td>\n",
       "      <td>0</td>\n",
       "      <td>...</td>\n",
       "      <td>0</td>\n",
       "      <td>0</td>\n",
       "      <td>0</td>\n",
       "      <td>0</td>\n",
       "      <td>0</td>\n",
       "      <td>0</td>\n",
       "      <td>0</td>\n",
       "      <td>0</td>\n",
       "      <td>0</td>\n",
       "      <td>0</td>\n",
       "    </tr>\n",
       "    <tr>\n",
       "      <th>18</th>\n",
       "      <td>60000.0</td>\n",
       "      <td>1.0</td>\n",
       "      <td>33.0</td>\n",
       "      <td>0</td>\n",
       "      <td>1</td>\n",
       "      <td>0</td>\n",
       "      <td>0</td>\n",
       "      <td>0</td>\n",
       "      <td>1</td>\n",
       "      <td>0</td>\n",
       "      <td>...</td>\n",
       "      <td>0</td>\n",
       "      <td>0</td>\n",
       "      <td>0</td>\n",
       "      <td>0</td>\n",
       "      <td>0</td>\n",
       "      <td>0</td>\n",
       "      <td>0</td>\n",
       "      <td>0</td>\n",
       "      <td>0</td>\n",
       "      <td>0</td>\n",
       "    </tr>\n",
       "    <tr>\n",
       "      <th>39</th>\n",
       "      <td>55000.0</td>\n",
       "      <td>1.0</td>\n",
       "      <td>92.0</td>\n",
       "      <td>0</td>\n",
       "      <td>1</td>\n",
       "      <td>0</td>\n",
       "      <td>0</td>\n",
       "      <td>0</td>\n",
       "      <td>1</td>\n",
       "      <td>0</td>\n",
       "      <td>...</td>\n",
       "      <td>0</td>\n",
       "      <td>0</td>\n",
       "      <td>0</td>\n",
       "      <td>0</td>\n",
       "      <td>0</td>\n",
       "      <td>0</td>\n",
       "      <td>0</td>\n",
       "      <td>0</td>\n",
       "      <td>0</td>\n",
       "      <td>0</td>\n",
       "    </tr>\n",
       "    <tr>\n",
       "      <th>45</th>\n",
       "      <td>10800.0</td>\n",
       "      <td>0.0</td>\n",
       "      <td>31.0</td>\n",
       "      <td>0</td>\n",
       "      <td>1</td>\n",
       "      <td>0</td>\n",
       "      <td>0</td>\n",
       "      <td>0</td>\n",
       "      <td>0</td>\n",
       "      <td>0</td>\n",
       "      <td>...</td>\n",
       "      <td>0</td>\n",
       "      <td>0</td>\n",
       "      <td>0</td>\n",
       "      <td>0</td>\n",
       "      <td>0</td>\n",
       "      <td>0</td>\n",
       "      <td>0</td>\n",
       "      <td>0</td>\n",
       "      <td>0</td>\n",
       "      <td>0</td>\n",
       "    </tr>\n",
       "    <tr>\n",
       "      <th>49</th>\n",
       "      <td>41391.5</td>\n",
       "      <td>1.0</td>\n",
       "      <td>33.0</td>\n",
       "      <td>0</td>\n",
       "      <td>1</td>\n",
       "      <td>1</td>\n",
       "      <td>1</td>\n",
       "      <td>0</td>\n",
       "      <td>1</td>\n",
       "      <td>0</td>\n",
       "      <td>...</td>\n",
       "      <td>0</td>\n",
       "      <td>0</td>\n",
       "      <td>0</td>\n",
       "      <td>0</td>\n",
       "      <td>0</td>\n",
       "      <td>0</td>\n",
       "      <td>0</td>\n",
       "      <td>0</td>\n",
       "      <td>0</td>\n",
       "      <td>0</td>\n",
       "    </tr>\n",
       "    <tr>\n",
       "      <th>54</th>\n",
       "      <td>42000.0</td>\n",
       "      <td>1.0</td>\n",
       "      <td>75.0</td>\n",
       "      <td>0</td>\n",
       "      <td>1</td>\n",
       "      <td>0</td>\n",
       "      <td>0</td>\n",
       "      <td>0</td>\n",
       "      <td>0</td>\n",
       "      <td>0</td>\n",
       "      <td>...</td>\n",
       "      <td>0</td>\n",
       "      <td>0</td>\n",
       "      <td>0</td>\n",
       "      <td>0</td>\n",
       "      <td>0</td>\n",
       "      <td>0</td>\n",
       "      <td>0</td>\n",
       "      <td>0</td>\n",
       "      <td>0</td>\n",
       "      <td>0</td>\n",
       "    </tr>\n",
       "    <tr>\n",
       "      <th>55</th>\n",
       "      <td>50000.0</td>\n",
       "      <td>1.0</td>\n",
       "      <td>75.0</td>\n",
       "      <td>0</td>\n",
       "      <td>1</td>\n",
       "      <td>0</td>\n",
       "      <td>0</td>\n",
       "      <td>0</td>\n",
       "      <td>1</td>\n",
       "      <td>0</td>\n",
       "      <td>...</td>\n",
       "      <td>0</td>\n",
       "      <td>0</td>\n",
       "      <td>0</td>\n",
       "      <td>0</td>\n",
       "      <td>0</td>\n",
       "      <td>0</td>\n",
       "      <td>0</td>\n",
       "      <td>0</td>\n",
       "      <td>0</td>\n",
       "      <td>0</td>\n",
       "    </tr>\n",
       "  </tbody>\n",
       "</table>\n",
       "<p>10 rows × 1913 columns</p>\n",
       "</div>"
      ],
      "text/plain": [
       "    salary_mean  salary_band   dep  query_developpeur  query_data+scientist  \\\n",
       "5       40458.0          1.0  75.0                  0                     1   \n",
       "9       48000.0          1.0  67.0                  0                     1   \n",
       "16      60000.0          1.0  33.0                  0                     1   \n",
       "17      60000.0          1.0  94.0                  0                     1   \n",
       "18      60000.0          1.0  33.0                  0                     1   \n",
       "39      55000.0          1.0  92.0                  0                     1   \n",
       "45      10800.0          0.0  31.0                  0                     1   \n",
       "49      41391.5          1.0  33.0                  0                     1   \n",
       "54      42000.0          1.0  75.0                  0                     1   \n",
       "55      50000.0          1.0  75.0                  0                     1   \n",
       "\n",
       "    query_business+intelligence  query_data+analyst  contract_commission  \\\n",
       "5                             0                   0                    0   \n",
       "9                             0                   0                    0   \n",
       "16                            0                   0                    0   \n",
       "17                            0                   0                    0   \n",
       "18                            0                   0                    0   \n",
       "39                            0                   0                    0   \n",
       "45                            0                   0                    0   \n",
       "49                            1                   1                    0   \n",
       "54                            0                   0                    0   \n",
       "55                            0                   0                    0   \n",
       "\n",
       "    contract_cdi  contract_intérim  ...  éol  éolien  éolienne  épargne  \\\n",
       "5              1                 0  ...    0       0         0        0   \n",
       "9              1                 0  ...    0       0         0        0   \n",
       "16             0                 0  ...    0       0         0        0   \n",
       "17             0                 0  ...    0       0         0        0   \n",
       "18             1                 0  ...    0       0         0        0   \n",
       "39             1                 0  ...    0       0         0        0   \n",
       "45             0                 0  ...    0       0         0        0   \n",
       "49             1                 0  ...    0       0         0        0   \n",
       "54             0                 0  ...    0       0         0        0   \n",
       "55             1                 0  ...    0       0         0        0   \n",
       "\n",
       "    équipe  étud  étude  études  évaluation  être  \n",
       "5        0     0      0       0           0     0  \n",
       "9        0     0      0       0           0     0  \n",
       "16       0     0      0       0           0     0  \n",
       "17       0     0      0       0           0     0  \n",
       "18       0     0      0       0           0     0  \n",
       "39       0     0      0       0           0     0  \n",
       "45       0     0      0       0           0     0  \n",
       "49       0     0      0       0           0     0  \n",
       "54       0     0      0       0           0     0  \n",
       "55       0     0      0       0           0     0  \n",
       "\n",
       "[10 rows x 1913 columns]"
      ]
     },
     "execution_count": 5,
     "metadata": {},
     "output_type": "execute_result"
    }
   ],
   "source": [
    "data.head(10)"
   ]
  },
  {
   "cell_type": "code",
   "execution_count": 6,
   "metadata": {},
   "outputs": [
    {
     "data": {
      "text/plain": [
       "(447, 1913)"
      ]
     },
     "execution_count": 6,
     "metadata": {},
     "output_type": "execute_result"
    }
   ],
   "source": [
    "data.shape"
   ]
  },
  {
   "cell_type": "code",
   "execution_count": 7,
   "metadata": {},
   "outputs": [],
   "source": [
    "y=data['salary_mean']\n",
    "X=data.drop(['salary_mean'], axis=1)"
   ]
  },
  {
   "cell_type": "code",
   "execution_count": 8,
   "metadata": {},
   "outputs": [],
   "source": [
    "train_data, test_data, train_label, test_label = train_test_split(X, y, test_size  = 0.25)"
   ]
  },
  {
   "cell_type": "code",
   "execution_count": 9,
   "metadata": {},
   "outputs": [],
   "source": [
    "import xgboost as xgb\n",
    "from sklearn.model_selection import train_test_split\n",
    "from sklearn.metrics import mean_squared_error"
   ]
  },
  {
   "cell_type": "code",
   "execution_count": 10,
   "metadata": {},
   "outputs": [],
   "source": [
    "regressor = xgb.XGBRegressor(\n",
    "    n_estimators=100,\n",
    "    reg_lambda=1,\n",
    "    gamma=0,\n",
    "    max_depth=100\n",
    ")"
   ]
  },
  {
   "cell_type": "code",
   "execution_count": 11,
   "metadata": {},
   "outputs": [
    {
     "name": "stdout",
     "output_type": "stream",
     "text": [
      "[16:58:55] WARNING: src/objective/regression_obj.cu:152: reg:linear is now deprecated in favor of reg:squarederror.\n"
     ]
    },
    {
     "data": {
      "text/plain": [
       "XGBRegressor(base_score=0.5, booster='gbtree', colsample_bylevel=1,\n",
       "             colsample_bynode=1, colsample_bytree=1, gamma=0,\n",
       "             importance_type='gain', learning_rate=0.1, max_delta_step=0,\n",
       "             max_depth=100, min_child_weight=1, missing=None, n_estimators=100,\n",
       "             n_jobs=1, nthread=None, objective='reg:linear', random_state=0,\n",
       "             reg_alpha=0, reg_lambda=1, scale_pos_weight=1, seed=None,\n",
       "             silent=None, subsample=1, verbosity=1)"
      ]
     },
     "execution_count": 11,
     "metadata": {},
     "output_type": "execute_result"
    }
   ],
   "source": [
    "regressor.fit(train_data, train_label)"
   ]
  },
  {
   "cell_type": "code",
   "execution_count": 12,
   "metadata": {},
   "outputs": [],
   "source": [
    "y_pred = regressor.predict(test_data)"
   ]
  },
  {
   "cell_type": "code",
   "execution_count": 13,
   "metadata": {},
   "outputs": [
    {
     "data": {
      "text/plain": [
       "86393772.12654509"
      ]
     },
     "execution_count": 13,
     "metadata": {},
     "output_type": "execute_result"
    }
   ],
   "source": [
    "mean_squared_error(test_label, y_pred)"
   ]
  },
  {
   "cell_type": "code",
   "execution_count": 46,
   "metadata": {},
   "outputs": [
    {
     "data": {
      "text/plain": [
       "0.8159805308863742"
      ]
     },
     "execution_count": 46,
     "metadata": {},
     "output_type": "execute_result"
    }
   ],
   "source": [
    "r2_score(test_label,y_pred)"
   ]
  },
  {
   "cell_type": "code",
   "execution_count": 15,
   "metadata": {},
   "outputs": [
    {
     "data": {
      "text/plain": [
       "salary_mean             0\n",
       "salary_band             0\n",
       "dep                     0\n",
       "query_developpeur       0\n",
       "query_data+scientist    0\n",
       "                       ..\n",
       "étud                    0\n",
       "étude                   0\n",
       "études                  0\n",
       "évaluation              0\n",
       "être                    0\n",
       "Length: 1913, dtype: int64"
      ]
     },
     "execution_count": 15,
     "metadata": {},
     "output_type": "execute_result"
    }
   ],
   "source": [
    "data.isna().sum()"
   ]
  },
  {
   "cell_type": "code",
   "execution_count": 17,
   "metadata": {},
   "outputs": [
    {
     "name": "stdout",
     "output_type": "stream",
     "text": [
      "Parameters currently in use:\n",
      "\n",
      "{'bootstrap': True,\n",
      " 'ccp_alpha': 0.0,\n",
      " 'criterion': 'mse',\n",
      " 'max_depth': None,\n",
      " 'max_features': 'auto',\n",
      " 'max_leaf_nodes': None,\n",
      " 'max_samples': None,\n",
      " 'min_impurity_decrease': 0.0,\n",
      " 'min_impurity_split': None,\n",
      " 'min_samples_leaf': 1,\n",
      " 'min_samples_split': 2,\n",
      " 'min_weight_fraction_leaf': 0.0,\n",
      " 'n_estimators': 100,\n",
      " 'n_jobs': None,\n",
      " 'oob_score': False,\n",
      " 'random_state': 42,\n",
      " 'verbose': 0,\n",
      " 'warm_start': False}\n"
     ]
    }
   ],
   "source": [
    "from sklearn.ensemble import RandomForestRegressor\n",
    "rf = RandomForestRegressor(random_state = 42)\n",
    "from pprint import pprint\n",
    "# Look at parameters used by our current forest\n",
    "print('Parameters currently in use:\\n')\n",
    "pprint(rf.get_params())"
   ]
  },
  {
   "cell_type": "code",
   "execution_count": 18,
   "metadata": {},
   "outputs": [
    {
     "name": "stdout",
     "output_type": "stream",
     "text": [
      "{'bootstrap': [True, False],\n",
      " 'max_depth': [10, 20, 30, 40, 50, 60, 70, 80, 90, 100, 110, None],\n",
      " 'max_features': ['auto', 'sqrt'],\n",
      " 'min_samples_leaf': [1, 2, 4],\n",
      " 'min_samples_split': [2, 5, 10],\n",
      " 'n_estimators': [200, 400, 600, 800, 1000, 1200, 1400, 1600, 1800, 2000]}\n"
     ]
    }
   ],
   "source": [
    "from sklearn.model_selection import RandomizedSearchCV\n",
    "# Number of trees in random forest\n",
    "n_estimators = [int(x) for x in np.linspace(start = 200, stop = 2000, num = 10)]\n",
    "# Number of features to consider at every split\n",
    "max_features = ['auto', 'sqrt']\n",
    "# Maximum number of levels in tree\n",
    "max_depth = [int(x) for x in np.linspace(10, 110, num = 11)]\n",
    "max_depth.append(None)\n",
    "# Minimum number of samples required to split a node\n",
    "min_samples_split = [2, 5, 10]\n",
    "# Minimum number of samples required at each leaf node\n",
    "min_samples_leaf = [1, 2, 4]\n",
    "# Method of selecting samples for training each tree\n",
    "bootstrap = [True, False]\n",
    "# Create the random grid\n",
    "random_grid = {'n_estimators': n_estimators,\n",
    "               'max_features': max_features,\n",
    "               'max_depth': max_depth,\n",
    "               'min_samples_split': min_samples_split,\n",
    "               'min_samples_leaf': min_samples_leaf,\n",
    "               'bootstrap': bootstrap}\n",
    "pprint(random_grid)\n"
   ]
  },
  {
   "cell_type": "code",
   "execution_count": 20,
   "metadata": {},
   "outputs": [
    {
     "name": "stdout",
     "output_type": "stream",
     "text": [
      "Fitting 3 folds for each of 100 candidates, totalling 300 fits\n"
     ]
    },
    {
     "name": "stderr",
     "output_type": "stream",
     "text": [
      "[Parallel(n_jobs=-1)]: Using backend LokyBackend with 8 concurrent workers.\n",
      "[Parallel(n_jobs=-1)]: Done  25 tasks      | elapsed:   21.8s\n",
      "[Parallel(n_jobs=-1)]: Done 146 tasks      | elapsed:  1.8min\n",
      "[Parallel(n_jobs=-1)]: Done 300 out of 300 | elapsed:  4.6min finished\n"
     ]
    },
    {
     "data": {
      "text/plain": [
       "RandomizedSearchCV(cv=3, error_score=nan,\n",
       "                   estimator=RandomForestRegressor(bootstrap=True,\n",
       "                                                   ccp_alpha=0.0,\n",
       "                                                   criterion='mse',\n",
       "                                                   max_depth=None,\n",
       "                                                   max_features='auto',\n",
       "                                                   max_leaf_nodes=None,\n",
       "                                                   max_samples=None,\n",
       "                                                   min_impurity_decrease=0.0,\n",
       "                                                   min_impurity_split=None,\n",
       "                                                   min_samples_leaf=1,\n",
       "                                                   min_samples_split=2,\n",
       "                                                   min_weight_fraction_leaf=0.0,\n",
       "                                                   n_estimators=100,\n",
       "                                                   n_jobs=None, oob_score=Fals...\n",
       "                   param_distributions={'bootstrap': [True, False],\n",
       "                                        'max_depth': [10, 20, 30, 40, 50, 60,\n",
       "                                                      70, 80, 90, 100, 110,\n",
       "                                                      None],\n",
       "                                        'max_features': ['auto', 'sqrt'],\n",
       "                                        'min_samples_leaf': [1, 2, 4],\n",
       "                                        'min_samples_split': [2, 5, 10],\n",
       "                                        'n_estimators': [200, 400, 600, 800,\n",
       "                                                         1000, 1200, 1400, 1600,\n",
       "                                                         1800, 2000]},\n",
       "                   pre_dispatch='2*n_jobs', random_state=42, refit=True,\n",
       "                   return_train_score=False, scoring=None, verbose=2)"
      ]
     },
     "execution_count": 20,
     "metadata": {},
     "output_type": "execute_result"
    }
   ],
   "source": [
    "# Use the random grid to search for best hyperparameters\n",
    "# First create the base model to tune\n",
    "rf = RandomForestRegressor()\n",
    "# Random search of parameters, using 3 fold cross validation, \n",
    "# search across 100 different combinations, and use all available cores\n",
    "rf_random = RandomizedSearchCV(estimator = rf, param_distributions = random_grid, n_iter = 100, cv = 3, verbose=2, random_state=42, n_jobs = -1)\n",
    "# Fit the random search model\n",
    "rf_random.fit(train_data, train_label)"
   ]
  },
  {
   "cell_type": "code",
   "execution_count": 21,
   "metadata": {},
   "outputs": [
    {
     "data": {
      "text/plain": [
       "{'n_estimators': 2000,\n",
       " 'min_samples_split': 10,\n",
       " 'min_samples_leaf': 2,\n",
       " 'max_features': 'auto',\n",
       " 'max_depth': 40,\n",
       " 'bootstrap': True}"
      ]
     },
     "execution_count": 21,
     "metadata": {},
     "output_type": "execute_result"
    }
   ],
   "source": [
    "rf_random.best_params_"
   ]
  },
  {
   "cell_type": "code",
   "execution_count": 38,
   "metadata": {},
   "outputs": [],
   "source": [
    "def evaluate(model, test_data, test_label):\n",
    "    predictions = model.predict(test_data)\n",
    "    errors = abs(predictions - test_label)\n",
    "    mape = 100 * np.mean(errors / test_label)\n",
    "    r2 = r2_score(predictions,test_label)\n",
    "    print('Model Performance')\n",
    "    print('Average Error: {:0.4f} degrees.'.format(np.mean(errors)))\n",
    "\n",
    "    \n",
    "    return r2"
   ]
  },
  {
   "cell_type": "code",
   "execution_count": 42,
   "metadata": {},
   "outputs": [
    {
     "name": "stdout",
     "output_type": "stream",
     "text": [
      "Model Performance\n",
      "Average Error: 7032.3272 degrees.\n"
     ]
    },
    {
     "data": {
      "text/plain": [
       "0.7318879983141704"
      ]
     },
     "execution_count": 42,
     "metadata": {},
     "output_type": "execute_result"
    }
   ],
   "source": [
    "base_model = RandomForestRegressor(n_estimators = 10, random_state = 42)\n",
    "base_model.fit(train_data, train_label)\n",
    "evaluate(base_model, test_data, test_label)"
   ]
  },
  {
   "cell_type": "code",
   "execution_count": 40,
   "metadata": {},
   "outputs": [
    {
     "data": {
      "text/plain": [
       "array([107280.        ,  32111.        ,  36052.        ,  49550.        ,\n",
       "        36990.        ,  46880.        ,  36098.        ,  42871.6       ,\n",
       "        68750.        ,  38904.2       ,  40250.        ,  39109.55      ,\n",
       "        39709.6       ,  39623.2       ,  34950.        ,  17845.7       ,\n",
       "        54450.        ,  49233.33333333,  47209.6       ,  50875.        ,\n",
       "        43012.55      ,  13980.        ,  51000.        ,  10950.        ,\n",
       "        35428.        ,  72400.        ,  68900.        ,  19801.3       ,\n",
       "        51141.6       ,  31100.        , 107280.        ,  72072.        ,\n",
       "        41665.3       , 101760.        ,  36228.        ,  45635.75      ,\n",
       "       108000.        ,  42835.75      ,  48706.5       ,  52000.        ,\n",
       "        43183.33333333,  49550.        ,  49091.6       ,   9919.2       ,\n",
       "        37426.        ,  49780.        ,  68850.        ,  70380.71666667,\n",
       "        40999.2       ,  50845.8       ,  34030.        ,  51950.        ,\n",
       "        37236.95      ,  38680.        ,  38360.        ,  45291.15      ,\n",
       "         9609.        ,  50250.        ,  11220.        ,  42036.9       ,\n",
       "        33889.        ,  11220.        ,  34534.8       ,  38826.        ,\n",
       "        37780.35      ,  70216.66666667,  40999.2       ,  33412.        ,\n",
       "        35045.65      ,  41900.        ,  35226.        ,  41576.        ,\n",
       "        37928.        , 105840.        ,  71500.        ,  21227.3       ,\n",
       "        45650.        ,  40585.3       ,  33892.        ,  46560.        ,\n",
       "        51600.        ,  38880.        ,  21060.        ,  49603.9       ,\n",
       "        41021.25      ,  34780.        ,  33168.45      ,  50125.        ,\n",
       "        46450.        ,  38864.        ,  69550.        ,  47575.        ,\n",
       "        21690.        ,  38458.4       ,  45250.        ,  19801.3       ,\n",
       "        38950.        ,  43820.6       ,  33914.8       ,  54450.        ,\n",
       "        33150.        ,  39709.6       ,  11144.4       ,  33168.45      ,\n",
       "        49905.2       ,  35844.        ,  37140.        ,  70330.71666667,\n",
       "        47976.        ,  30234.8       ,  40816.66666667,  34090.        ])"
      ]
     },
     "execution_count": 40,
     "metadata": {},
     "output_type": "execute_result"
    }
   ],
   "source": [
    "base_model.predict(test_data)"
   ]
  },
  {
   "cell_type": "code",
   "execution_count": 44,
   "metadata": {},
   "outputs": [
    {
     "name": "stdout",
     "output_type": "stream",
     "text": [
      "Model Performance\n",
      "Average Error: 6463.4331 degrees.\n",
      "0.7748832118880755\n"
     ]
    }
   ],
   "source": [
    "best_random = rf_random.best_estimator_\n",
    "random_r2 = evaluate(best_random, test_data, test_label)\n",
    "print(random_r2)"
   ]
  },
  {
   "cell_type": "code",
   "execution_count": 32,
   "metadata": {},
   "outputs": [],
   "source": [
    "y_pred1=base_model.predict(test_data)"
   ]
  },
  {
   "cell_type": "code",
   "execution_count": 34,
   "metadata": {},
   "outputs": [
    {
     "data": {
      "text/plain": [
       "(array([107280.        ,  32111.        ,  36052.        ,  49550.        ,\n",
       "         36990.        ,  46880.        ,  36098.        ,  42871.6       ,\n",
       "         68750.        ,  38904.2       ,  40250.        ,  39109.55      ,\n",
       "         39709.6       ,  39623.2       ,  34950.        ,  17845.7       ,\n",
       "         54450.        ,  49233.33333333,  47209.6       ,  50875.        ,\n",
       "         43012.55      ,  13980.        ,  51000.        ,  10950.        ,\n",
       "         35428.        ,  72400.        ,  68900.        ,  19801.3       ,\n",
       "         51141.6       ,  31100.        , 107280.        ,  72072.        ,\n",
       "         41665.3       , 101760.        ,  36228.        ,  45635.75      ,\n",
       "        108000.        ,  42835.75      ,  48706.5       ,  52000.        ,\n",
       "         43183.33333333,  49550.        ,  49091.6       ,   9919.2       ,\n",
       "         37426.        ,  49780.        ,  68850.        ,  70380.71666667,\n",
       "         40999.2       ,  50845.8       ,  34030.        ,  51950.        ,\n",
       "         37236.95      ,  38680.        ,  38360.        ,  45291.15      ,\n",
       "          9609.        ,  50250.        ,  11220.        ,  42036.9       ,\n",
       "         33889.        ,  11220.        ,  34534.8       ,  38826.        ,\n",
       "         37780.35      ,  70216.66666667,  40999.2       ,  33412.        ,\n",
       "         35045.65      ,  41900.        ,  35226.        ,  41576.        ,\n",
       "         37928.        , 105840.        ,  71500.        ,  21227.3       ,\n",
       "         45650.        ,  40585.3       ,  33892.        ,  46560.        ,\n",
       "         51600.        ,  38880.        ,  21060.        ,  49603.9       ,\n",
       "         41021.25      ,  34780.        ,  33168.45      ,  50125.        ,\n",
       "         46450.        ,  38864.        ,  69550.        ,  47575.        ,\n",
       "         21690.        ,  38458.4       ,  45250.        ,  19801.3       ,\n",
       "         38950.        ,  43820.6       ,  33914.8       ,  54450.        ,\n",
       "         33150.        ,  39709.6       ,  11144.4       ,  33168.45      ,\n",
       "         49905.2       ,  35844.        ,  37140.        ,  70330.71666667,\n",
       "         47976.        ,  30234.8       ,  40816.66666667,  34090.        ]),\n",
       " 2515    120000.0\n",
       " 2667     27500.0\n",
       " 713      55000.0\n",
       " 707      50500.0\n",
       " 2229     40000.0\n",
       "           ...   \n",
       " 2546     72000.0\n",
       " 421      55000.0\n",
       " 935      39000.0\n",
       " 1066     47500.0\n",
       " 2343     40000.0\n",
       " Name: salary_mean, Length: 112, dtype: float64)"
      ]
     },
     "execution_count": 34,
     "metadata": {},
     "output_type": "execute_result"
    }
   ],
   "source": [
    "y_pred1,test_label"
   ]
  },
  {
   "cell_type": "code",
   "execution_count": 49,
   "metadata": {},
   "outputs": [],
   "source": [
    "from sklearn.model_selection import GridSearchCV\n",
    "# Create the parameter grid based on the results of random search \n",
    "param_grid = {\n",
    "    'bootstrap': [True],\n",
    "    'max_depth': [80, 90, 100, 110],\n",
    "    'max_features': [2, 3],\n",
    "    'min_samples_leaf': [3, 4, 5],\n",
    "    'min_samples_split': [8, 10, 12],\n",
    "    'n_estimators': [100, 200, 300, 1000]\n",
    "}\n",
    "# Create a based model\n",
    "rf = RandomForestRegressor()\n",
    "# Instantiate the grid search model\n",
    "grid_search = GridSearchCV(estimator = rf, param_grid = param_grid, \n",
    "                          cv = 3, n_jobs = -1, verbose = 2)"
   ]
  },
  {
   "cell_type": "code",
   "execution_count": 50,
   "metadata": {},
   "outputs": [
    {
     "name": "stdout",
     "output_type": "stream",
     "text": [
      "Fitting 3 folds for each of 288 candidates, totalling 864 fits\n"
     ]
    },
    {
     "name": "stderr",
     "output_type": "stream",
     "text": [
      "[Parallel(n_jobs=-1)]: Using backend LokyBackend with 8 concurrent workers.\n",
      "[Parallel(n_jobs=-1)]: Done  25 tasks      | elapsed:    4.7s\n",
      "[Parallel(n_jobs=-1)]: Done 146 tasks      | elapsed:   18.7s\n",
      "[Parallel(n_jobs=-1)]: Done 349 tasks      | elapsed:   43.2s\n",
      "[Parallel(n_jobs=-1)]: Done 632 tasks      | elapsed:  1.3min\n",
      "[Parallel(n_jobs=-1)]: Done 864 out of 864 | elapsed:  1.8min finished\n"
     ]
    },
    {
     "data": {
      "text/plain": [
       "{'bootstrap': True,\n",
       " 'max_depth': 90,\n",
       " 'max_features': 2,\n",
       " 'min_samples_leaf': 4,\n",
       " 'min_samples_split': 10,\n",
       " 'n_estimators': 100}"
      ]
     },
     "execution_count": 50,
     "metadata": {},
     "output_type": "execute_result"
    }
   ],
   "source": [
    "# Fit the grid search to the data\n",
    "grid_search.fit(train_data, train_label)\n",
    "grid_search.best_params_\n"
   ]
  },
  {
   "cell_type": "code",
   "execution_count": 60,
   "metadata": {},
   "outputs": [
    {
     "name": "stdout",
     "output_type": "stream",
     "text": [
      "Model Performance\n",
      "Average Error: 16488.5809 degrees.\n",
      "-13994.825934572797\n"
     ]
    }
   ],
   "source": [
    "best_grid = grid_search.best_estimator_\n",
    "grid_r2 = evaluate(best_grid, test_data, test_label)\n",
    "print(grid_r2)"
   ]
  },
  {
   "cell_type": "code",
   "execution_count": 65,
   "metadata": {},
   "outputs": [
    {
     "data": {
      "text/plain": [
       "array([46656.27008212, 46008.48352689, 46136.71587512, 46412.29322422,\n",
       "       46008.48352689, 46061.52034097, 45936.84086282, 46008.48352689,\n",
       "       46082.65649955, 46046.87195882, 45813.5136403 , 46008.48352689,\n",
       "       45971.71289514, 46008.48352689, 46008.48352689, 46082.65649955,\n",
       "       46200.60717522, 46200.60717522, 45979.46425911, 46320.86797821,\n",
       "       46042.23212863, 45651.37862229, 46042.23212863, 45651.37862229,\n",
       "       46008.48352689, 45995.97980265, 46181.78114396, 46008.48352689,\n",
       "       46200.60717522, 46087.31935262, 46656.27008212, 46320.86797821,\n",
       "       45944.59222679, 46664.02144609, 46008.48352689, 46008.48352689,\n",
       "       46664.02144609, 46012.88950764, 46000.73216292, 46076.52013558,\n",
       "       46128.74432988, 46192.85581125, 46192.85581125, 45643.62725832,\n",
       "       46200.60717522, 46121.04493148, 46082.65649955, 46200.60717522,\n",
       "       46000.73216292, 46238.99560715, 46008.48352689, 46200.60717522,\n",
       "       46008.48352689, 46008.48352689, 46008.48352689, 45944.59222679,\n",
       "       46087.31935262, 46200.60717522, 45843.50227062, 45919.97893976,\n",
       "       46012.88950764, 45843.50227062, 45971.7223347 , 46200.60717522,\n",
       "       46008.48352689, 46238.99560715, 46000.73216292, 45971.71289514,\n",
       "       45811.88640056, 46000.73216292, 46008.48352689, 46200.60717522,\n",
       "       46128.74432988, 46656.27008212, 46008.48352689, 46008.48352689,\n",
       "       46173.07650775, 46008.48352689, 46000.73216292, 45412.87567846,\n",
       "       46320.86797821, 46008.48352689, 46000.73216292, 45989.8776769 ,\n",
       "       46061.52034097, 45944.59222679, 46000.73216292, 46278.96838317,\n",
       "       46173.07650775, 46200.60717522, 46008.48352689, 46238.99560715,\n",
       "       45971.71289514, 46200.60717522, 46200.60717522, 46008.48352689,\n",
       "       46008.48352689, 46200.60717522, 46008.48352689, 46200.60717522,\n",
       "       46008.48352689, 45971.71289514, 45643.62725832, 46000.73216292,\n",
       "       45888.73963087, 46000.73216292, 46082.65649955, 46099.9087729 ,\n",
       "       46082.65649955, 46008.48352689, 46008.48352689, 46008.48352689])"
      ]
     },
     "execution_count": 65,
     "metadata": {},
     "output_type": "execute_result"
    }
   ],
   "source": [
    "grid_search.predict(test_data)"
   ]
  },
  {
   "cell_type": "code",
   "execution_count": 64,
   "metadata": {},
   "outputs": [],
   "source": [
    "# REMARQUE/ GRID_SEARCH N4EST PAS DU TOUT ADAPTER AU MODEL DE ¨REDICTION DE VARIABLE CONTINUE CAR LA MOYENNE D4ERREUR RESTE\n",
    "#RESTE CORRECTE MAIS IL SETABILISE TROP LES DONN2 EN LES RENDANT UNIFORME "
   ]
  },
  {
   "cell_type": "code",
   "execution_count": 62,
   "metadata": {},
   "outputs": [
    {
     "data": {
      "text/plain": [
       "<matplotlib.lines.Line2D at 0x1a1eaf3410>"
      ]
     },
     "execution_count": 62,
     "metadata": {},
     "output_type": "execute_result"
    },
    {
     "data": {
      "image/png": "[encoded data removed]",
      "text/plain": [
       "<Figure size 432x288 with 1 Axes>"
      ]
     },
     "metadata": {
      "needs_background": "light"
     },
     "output_type": "display_data"
    }
   ],
   "source": [
    "#resultat d'origine DES DONNé \n",
    "import seaborn as sns\n",
    "import matplotlib.pyplot as plt\n",
    "ax = sns.distplot(test_label, bins=8)\n",
    "ax.axvline(test_label.mean(), c='r')\n"
   ]
  },
  {
   "cell_type": "code",
   "execution_count": 63,
   "metadata": {},
   "outputs": [
    {
     "data": {
      "text/plain": [
       "<matplotlib.lines.Line2D at 0x1a1f322810>"
      ]
     },
     "execution_count": 63,
     "metadata": {},
     "output_type": "execute_result"
    },
    {
     "data": {
      "image/png": "[encoded data removed]",
      "text/plain": [
       "<Figure size 432x288 with 1 Axes>"
      ]
     },
     "metadata": {
      "needs_background": "light"
     },
     "output_type": "display_data"
    }
   ],
   "source": [
    "#resultat de fin avec RANDOMFOREST\n",
    "import seaborn as sns\n",
    "import matplotlib.pyplot as plt\n",
    "ax = sns.distplot(y_pred, bins=8)\n",
    "ax.axvline(y_pred1.mean(), c='r')"
   ]
  },
  {
   "cell_type": "code",
   "execution_count": null,
   "metadata": {},
   "outputs": [],
   "source": [
    "#REMARQUE: RANDOME FORESTE REGRESSION EST TRES ADAPTER A NOTRE MODEL ET CELLE_REDIT AVEC UNE PETITE DIFFERENCE\n",
    "#LES MOYENNE DES SALAIRE QUI SONT TRES FAVORABLE A MODEL ET AU CONTEXTE "
   ]
  }
 ],
 "metadata": {
  "kernelspec": {
   "display_name": "Python 3",
   "language": "python",
   "name": "python3"
  },
  "language_info": {
   "codemirror_mode": {
    "name": "ipython",
    "version": 3
   },
   "file_extension": ".py",
   "mimetype": "text/x-python",
   "name": "python",
   "nbconvert_exporter": "python",
   "pygments_lexer": "ipython3",
   "version": "3.7.6"
  }
 },
 "nbformat": 4,
 "nbformat_minor": 4
}
