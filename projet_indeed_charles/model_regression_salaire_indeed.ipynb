{
 "cells": [
  {
   "cell_type": "code",
   "execution_count": 1,
   "metadata": {},
   "outputs": [],
   "source": [
    "#Nous voulons prédire une variable binaire - que le salaire soit faible ou élevé.\n",
    "#Calculez le salaire médian et créez une nouvelle variable binaire qui est vraie lorsque le salaire est élevé\n",
    "#(au-dessus de la médiane)\n",
    "#Nous pourrions également effectuer une régression linéaire (ou toute régression) pour prédire la valeur du salaire ici.\n",
    "\n",
    "\n",
    "import numpy as np\n",
    "import pandas as pd"
   ]
  },
  {
   "cell_type": "code",
   "execution_count": 2,
   "metadata": {},
   "outputs": [],
   "source": [
    "data = pd.read_csv('/Users/charleshajjar/Desktop/projet_indeed_charles/clean_salary_charles.csv')"
   ]
  },
  {
   "cell_type": "code",
   "execution_count": 3,
   "metadata": {},
   "outputs": [
    {
     "data": {
      "text/plain": [
       "2355.0"
      ]
     },
     "execution_count": 3,
     "metadata": {},
     "output_type": "execute_result"
    }
   ],
   "source": [
    "#calcule de la médiane\n",
    "median = np.median(data.avg)\n",
    "median"
   ]
  },
  {
   "cell_type": "code",
   "execution_count": 4,
   "metadata": {},
   "outputs": [],
   "source": [
    "data['dumsal'] = (data[\"avg\"] >= data[\"avg\"].median()).astype(int)"
   ]
  },
  {
   "cell_type": "code",
   "execution_count": 5,
   "metadata": {},
   "outputs": [
    {
     "data": {
      "text/html": [
       "<div>\n",
       "<style scoped>\n",
       "    .dataframe tbody tr th:only-of-type {\n",
       "        vertical-align: middle;\n",
       "    }\n",
       "\n",
       "    .dataframe tbody tr th {\n",
       "        vertical-align: top;\n",
       "    }\n",
       "\n",
       "    .dataframe thead th {\n",
       "        text-align: right;\n",
       "    }\n",
       "</style>\n",
       "<table border=\"1\" class=\"dataframe\">\n",
       "  <thead>\n",
       "    <tr style=\"text-align: right;\">\n",
       "      <th></th>\n",
       "      <th>Unnamed: 0</th>\n",
       "      <th>Titre</th>\n",
       "      <th>Company</th>\n",
       "      <th>Summaries</th>\n",
       "      <th>avg</th>\n",
       "      <th>cityfrance</th>\n",
       "      <th>city</th>\n",
       "      <th>dumsal</th>\n",
       "    </tr>\n",
       "  </thead>\n",
       "  <tbody>\n",
       "    <tr>\n",
       "      <th>0</th>\n",
       "      <td>0</td>\n",
       "      <td>Alternance - Data Scientist H/F</td>\n",
       "      <td>Malakoff Humanis</td>\n",
       "      <td>Nous recherchons un business data analyst pass...</td>\n",
       "      <td>1125.0</td>\n",
       "      <td>['Paris (75)']</td>\n",
       "      <td>Paris (75)</td>\n",
       "      <td>0</td>\n",
       "    </tr>\n",
       "    <tr>\n",
       "      <th>1</th>\n",
       "      <td>1</td>\n",
       "      <td>Data Scientist H/F</td>\n",
       "      <td>CCM Benchmark Group</td>\n",
       "      <td>La réalisation d'analyses de data mining répon...</td>\n",
       "      <td>1500.0</td>\n",
       "      <td>['Asnières-sur-Seine (92)']</td>\n",
       "      <td>Asnières-sur-Seine (92)</td>\n",
       "      <td>0</td>\n",
       "    </tr>\n",
       "    <tr>\n",
       "      <th>2</th>\n",
       "      <td>4</td>\n",
       "      <td>Alternance - Assistant Data Analyst/PMO H/F</td>\n",
       "      <td>Gandi</td>\n",
       "      <td>Euro Information, filiale Informatique du grou...</td>\n",
       "      <td>1125.0</td>\n",
       "      <td>['Paris (75)']</td>\n",
       "      <td>Paris (75)</td>\n",
       "      <td>0</td>\n",
       "    </tr>\n",
       "    <tr>\n",
       "      <th>3</th>\n",
       "      <td>5</td>\n",
       "      <td>Développeur confirmé H/F</td>\n",
       "      <td>VONA</td>\n",
       "      <td>Business Developer – Stage de fin d’études – J...</td>\n",
       "      <td>800.0</td>\n",
       "      <td>['Levallois-Perret (92)']</td>\n",
       "      <td>Levallois-Perret (92)</td>\n",
       "      <td>0</td>\n",
       "    </tr>\n",
       "    <tr>\n",
       "      <th>4</th>\n",
       "      <td>6</td>\n",
       "      <td>Data Analyst·(e) - Stagiaire H/F</td>\n",
       "      <td>Joko</td>\n",
       "      <td>Stagiaire data analyst(e) h/f ou similaire: 1 ...</td>\n",
       "      <td>3150.0</td>\n",
       "      <td>['Paris 9e (75)']</td>\n",
       "      <td>Paris 9e (75)</td>\n",
       "      <td>1</td>\n",
       "    </tr>\n",
       "  </tbody>\n",
       "</table>\n",
       "</div>"
      ],
      "text/plain": [
       "   Unnamed: 0                                        Titre  \\\n",
       "0           0              Alternance - Data Scientist H/F   \n",
       "1           1                           Data Scientist H/F   \n",
       "2           4  Alternance - Assistant Data Analyst/PMO H/F   \n",
       "3           5                     Développeur confirmé H/F   \n",
       "4           6             Data Analyst·(e) - Stagiaire H/F   \n",
       "\n",
       "               Company                                          Summaries  \\\n",
       "0     Malakoff Humanis  Nous recherchons un business data analyst pass...   \n",
       "1  CCM Benchmark Group  La réalisation d'analyses de data mining répon...   \n",
       "2                Gandi  Euro Information, filiale Informatique du grou...   \n",
       "3                 VONA  Business Developer – Stage de fin d’études – J...   \n",
       "4                 Joko  Stagiaire data analyst(e) h/f ou similaire: 1 ...   \n",
       "\n",
       "      avg                   cityfrance                     city  dumsal  \n",
       "0  1125.0               ['Paris (75)']               Paris (75)       0  \n",
       "1  1500.0  ['Asnières-sur-Seine (92)']  Asnières-sur-Seine (92)       0  \n",
       "2  1125.0               ['Paris (75)']               Paris (75)       0  \n",
       "3   800.0    ['Levallois-Perret (92)']    Levallois-Perret (92)       0  \n",
       "4  3150.0            ['Paris 9e (75)']            Paris 9e (75)       1  "
      ]
     },
     "execution_count": 5,
     "metadata": {},
     "output_type": "execute_result"
    }
   ],
   "source": [
    "data.head()\n",
    "#data.drop(['Summaries'], axis=1)"
   ]
  },
  {
   "cell_type": "code",
   "execution_count": 6,
   "metadata": {},
   "outputs": [],
   "source": [
    "from sklearn.feature_extraction.text import CountVectorizer\n",
    "from sklearn.model_selection import cross_val_score, cross_val_predict\n",
    "from sklearn import metrics\n",
    "from sklearn.model_selection import train_test_split\n",
    "from sklearn import linear_model\n",
    "from sklearn.linear_model import LogisticRegression\n",
    "from sklearn.feature_extraction.text import CountVectorizer"
   ]
  },
  {
   "cell_type": "code",
   "execution_count": 7,
   "metadata": {},
   "outputs": [],
   "source": [
    "cvec = CountVectorizer()\n",
    "X = data[\"Titre\"]\n",
    "y = data[\"dumsal\"]\n",
    "X_train, X_test, y_train, y_test = train_test_split(X, y, test_size=0.33)"
   ]
  },
  {
   "cell_type": "code",
   "execution_count": 8,
   "metadata": {},
   "outputs": [],
   "source": [
    "#La gestion des fréquences, sélection des mots pertinents, élimination des stopwords\n",
    "cvec = CountVectorizer(stop_words='english').fit(X_train)\n",
    "df_train = pd.DataFrame(cvec.transform(X_train).todense(),\n",
    "             columns=cvec.get_feature_names())"
   ]
  },
  {
   "cell_type": "code",
   "execution_count": 9,
   "metadata": {},
   "outputs": [
    {
     "name": "stdout",
     "output_type": "stream",
     "text": [
      "(192, 151)\n",
      "(192,)\n",
      "(95, 151)\n",
      "(95,)\n"
     ]
    }
   ],
   "source": [
    "df_test = pd.DataFrame(cvec.transform(X_test).todense(),\n",
    "                      columns=cvec.get_feature_names())\n",
    "print(df_train.shape)\n",
    "print(y_train.shape)\n",
    "print(df_test.shape)\n",
    "print(y_test.shape)"
   ]
  },
  {
   "cell_type": "code",
   "execution_count": 10,
   "metadata": {},
   "outputs": [
    {
     "data": {
      "text/html": [
       "<div>\n",
       "<style scoped>\n",
       "    .dataframe tbody tr th:only-of-type {\n",
       "        vertical-align: middle;\n",
       "    }\n",
       "\n",
       "    .dataframe tbody tr th {\n",
       "        vertical-align: top;\n",
       "    }\n",
       "\n",
       "    .dataframe thead th {\n",
       "        text-align: right;\n",
       "    }\n",
       "</style>\n",
       "<table border=\"1\" class=\"dataframe\">\n",
       "  <thead>\n",
       "    <tr style=\"text-align: right;\">\n",
       "      <th></th>\n",
       "      <th>2020</th>\n",
       "      <th>67</th>\n",
       "      <th>68</th>\n",
       "      <th>affaires</th>\n",
       "      <th>agile</th>\n",
       "      <th>alfresco</th>\n",
       "      <th>alternance</th>\n",
       "      <th>alternant</th>\n",
       "      <th>analyst</th>\n",
       "      <th>analyste</th>\n",
       "      <th>...</th>\n",
       "      <th>trader</th>\n",
       "      <th>trafic</th>\n",
       "      <th>travail</th>\n",
       "      <th>télé</th>\n",
       "      <th>télécom</th>\n",
       "      <th>user</th>\n",
       "      <th>web</th>\n",
       "      <th>webmarketeur</th>\n",
       "      <th>éditique</th>\n",
       "      <th>études</th>\n",
       "    </tr>\n",
       "  </thead>\n",
       "  <tbody>\n",
       "    <tr>\n",
       "      <th>0</th>\n",
       "      <td>0</td>\n",
       "      <td>0</td>\n",
       "      <td>0</td>\n",
       "      <td>0</td>\n",
       "      <td>0</td>\n",
       "      <td>0</td>\n",
       "      <td>0</td>\n",
       "      <td>0</td>\n",
       "      <td>0</td>\n",
       "      <td>0</td>\n",
       "      <td>...</td>\n",
       "      <td>0</td>\n",
       "      <td>0</td>\n",
       "      <td>0</td>\n",
       "      <td>0</td>\n",
       "      <td>0</td>\n",
       "      <td>0</td>\n",
       "      <td>0</td>\n",
       "      <td>0</td>\n",
       "      <td>0</td>\n",
       "      <td>1</td>\n",
       "    </tr>\n",
       "    <tr>\n",
       "      <th>1</th>\n",
       "      <td>0</td>\n",
       "      <td>0</td>\n",
       "      <td>0</td>\n",
       "      <td>0</td>\n",
       "      <td>0</td>\n",
       "      <td>0</td>\n",
       "      <td>0</td>\n",
       "      <td>1</td>\n",
       "      <td>1</td>\n",
       "      <td>0</td>\n",
       "      <td>...</td>\n",
       "      <td>0</td>\n",
       "      <td>0</td>\n",
       "      <td>0</td>\n",
       "      <td>0</td>\n",
       "      <td>0</td>\n",
       "      <td>0</td>\n",
       "      <td>0</td>\n",
       "      <td>0</td>\n",
       "      <td>0</td>\n",
       "      <td>0</td>\n",
       "    </tr>\n",
       "    <tr>\n",
       "      <th>2</th>\n",
       "      <td>0</td>\n",
       "      <td>0</td>\n",
       "      <td>0</td>\n",
       "      <td>0</td>\n",
       "      <td>0</td>\n",
       "      <td>0</td>\n",
       "      <td>0</td>\n",
       "      <td>0</td>\n",
       "      <td>0</td>\n",
       "      <td>0</td>\n",
       "      <td>...</td>\n",
       "      <td>0</td>\n",
       "      <td>0</td>\n",
       "      <td>0</td>\n",
       "      <td>0</td>\n",
       "      <td>0</td>\n",
       "      <td>0</td>\n",
       "      <td>0</td>\n",
       "      <td>0</td>\n",
       "      <td>0</td>\n",
       "      <td>0</td>\n",
       "    </tr>\n",
       "    <tr>\n",
       "      <th>3</th>\n",
       "      <td>0</td>\n",
       "      <td>0</td>\n",
       "      <td>0</td>\n",
       "      <td>0</td>\n",
       "      <td>0</td>\n",
       "      <td>0</td>\n",
       "      <td>0</td>\n",
       "      <td>0</td>\n",
       "      <td>0</td>\n",
       "      <td>0</td>\n",
       "      <td>...</td>\n",
       "      <td>0</td>\n",
       "      <td>0</td>\n",
       "      <td>0</td>\n",
       "      <td>0</td>\n",
       "      <td>0</td>\n",
       "      <td>0</td>\n",
       "      <td>0</td>\n",
       "      <td>0</td>\n",
       "      <td>0</td>\n",
       "      <td>0</td>\n",
       "    </tr>\n",
       "    <tr>\n",
       "      <th>4</th>\n",
       "      <td>0</td>\n",
       "      <td>0</td>\n",
       "      <td>0</td>\n",
       "      <td>0</td>\n",
       "      <td>0</td>\n",
       "      <td>0</td>\n",
       "      <td>0</td>\n",
       "      <td>0</td>\n",
       "      <td>0</td>\n",
       "      <td>0</td>\n",
       "      <td>...</td>\n",
       "      <td>0</td>\n",
       "      <td>0</td>\n",
       "      <td>0</td>\n",
       "      <td>0</td>\n",
       "      <td>0</td>\n",
       "      <td>0</td>\n",
       "      <td>0</td>\n",
       "      <td>0</td>\n",
       "      <td>0</td>\n",
       "      <td>0</td>\n",
       "    </tr>\n",
       "  </tbody>\n",
       "</table>\n",
       "<p>5 rows × 151 columns</p>\n",
       "</div>"
      ],
      "text/plain": [
       "   2020  67  68  affaires  agile  alfresco  alternance  alternant  analyst  \\\n",
       "0     0   0   0         0      0         0           0          0        0   \n",
       "1     0   0   0         0      0         0           0          1        1   \n",
       "2     0   0   0         0      0         0           0          0        0   \n",
       "3     0   0   0         0      0         0           0          0        0   \n",
       "4     0   0   0         0      0         0           0          0        0   \n",
       "\n",
       "   analyste  ...  trader  trafic  travail  télé  télécom  user  web  \\\n",
       "0         0  ...       0       0        0     0        0     0    0   \n",
       "1         0  ...       0       0        0     0        0     0    0   \n",
       "2         0  ...       0       0        0     0        0     0    0   \n",
       "3         0  ...       0       0        0     0        0     0    0   \n",
       "4         0  ...       0       0        0     0        0     0    0   \n",
       "\n",
       "   webmarketeur  éditique  études  \n",
       "0             0         0       1  \n",
       "1             0         0       0  \n",
       "2             0         0       0  \n",
       "3             0         0       0  \n",
       "4             0         0       0  \n",
       "\n",
       "[5 rows x 151 columns]"
      ]
     },
     "execution_count": 10,
     "metadata": {},
     "output_type": "execute_result"
    }
   ],
   "source": [
    "df_train.head(5)"
   ]
  },
  {
   "cell_type": "code",
   "execution_count": 11,
   "metadata": {},
   "outputs": [
    {
     "data": {
      "text/plain": [
       "Index(['2020', '67', '68', 'affaires', 'agile', 'alfresco', 'alternance',\n",
       "       'alternant', 'analyst', 'analyste',\n",
       "       ...\n",
       "       'trader', 'trafic', 'travail', 'télé', 'télécom', 'user', 'web',\n",
       "       'webmarketeur', 'éditique', 'études'],\n",
       "      dtype='object', length=151)"
      ]
     },
     "execution_count": 11,
     "metadata": {},
     "output_type": "execute_result"
    }
   ],
   "source": [
    "df_train.columns"
   ]
  },
  {
   "cell_type": "code",
   "execution_count": 12,
   "metadata": {},
   "outputs": [
    {
     "data": {
      "text/plain": [
       "0.4421052631578947"
      ]
     },
     "execution_count": 12,
     "metadata": {},
     "output_type": "execute_result"
    }
   ],
   "source": [
    "lr = LogisticRegression()\n",
    "lr.fit(df_train, y_train)\n",
    "lr.score(df_test, y_test)"
   ]
  },
  {
   "cell_type": "code",
   "execution_count": 13,
   "metadata": {},
   "outputs": [
    {
     "name": "stdout",
     "output_type": "stream",
     "text": [
      "Cross-validated scores: [0.75       0.625      0.625      0.5625     0.375      0.66666667]\n",
      "Cross-Predicted Accuracy: 0.6\n"
     ]
    }
   ],
   "source": [
    "#from sklearn.cross_validation import cross_val_score, cross_val_predict\n",
    "from sklearn import metrics\n",
    "# Perform 6-fold cross validation\n",
    "scores = cross_val_score(lr, df_test, y_test, cv=6)\n",
    "print(\"Cross-validated scores:\", scores)\n",
    "# Make cross validated predictions\n",
    "predictions = cross_val_predict(lr, df_test, y_test, cv=6)\n",
    "accuracy = metrics.accuracy_score(y_test, predictions)\n",
    "print(\"Cross-Predicted Accuracy:\", accuracy)"
   ]
  },
  {
   "cell_type": "code",
   "execution_count": 14,
   "metadata": {},
   "outputs": [
    {
     "name": "stdout",
     "output_type": "stream",
     "text": [
      "Random Forrest Score:\t0.505 ± 0.072\n"
     ]
    }
   ],
   "source": [
    "from sklearn.ensemble import RandomForestClassifier\n",
    "rf = RandomForestClassifier(class_weight='balanced')\n",
    "RF = rf.fit(df_train,y_train)\n",
    "s = cross_val_score(rf, df_train, y_train, n_jobs=-1)\n",
    "print (\"{} Score:\\t{:0.3} ± {:0.3}\".format(\"Random Forrest\", s.mean().round(3), s.std().round(3)))"
   ]
  },
  {
   "cell_type": "code",
   "execution_count": 15,
   "metadata": {},
   "outputs": [
    {
     "data": {
      "text/html": [
       "<div>\n",
       "<style scoped>\n",
       "    .dataframe tbody tr th:only-of-type {\n",
       "        vertical-align: middle;\n",
       "    }\n",
       "\n",
       "    .dataframe tbody tr th {\n",
       "        vertical-align: top;\n",
       "    }\n",
       "\n",
       "    .dataframe thead th {\n",
       "        text-align: right;\n",
       "    }\n",
       "</style>\n",
       "<table border=\"1\" class=\"dataframe\">\n",
       "  <thead>\n",
       "    <tr style=\"text-align: right;\">\n",
       "      <th></th>\n",
       "      <th>importance</th>\n",
       "    </tr>\n",
       "  </thead>\n",
       "  <tbody>\n",
       "    <tr>\n",
       "      <th>consultant</th>\n",
       "      <td>0.035282</td>\n",
       "    </tr>\n",
       "    <tr>\n",
       "      <th>alternance</th>\n",
       "      <td>0.031020</td>\n",
       "    </tr>\n",
       "    <tr>\n",
       "      <th>junior</th>\n",
       "      <td>0.026269</td>\n",
       "    </tr>\n",
       "    <tr>\n",
       "      <th>data</th>\n",
       "      <td>0.022814</td>\n",
       "    </tr>\n",
       "    <tr>\n",
       "      <th>net</th>\n",
       "      <td>0.022592</td>\n",
       "    </tr>\n",
       "    <tr>\n",
       "      <th>nodejs</th>\n",
       "      <td>0.022178</td>\n",
       "    </tr>\n",
       "    <tr>\n",
       "      <th>informatique</th>\n",
       "      <td>0.021795</td>\n",
       "    </tr>\n",
       "    <tr>\n",
       "      <th>web</th>\n",
       "      <td>0.021779</td>\n",
       "    </tr>\n",
       "    <tr>\n",
       "      <th>analyst</th>\n",
       "      <td>0.019022</td>\n",
       "    </tr>\n",
       "    <tr>\n",
       "      <th>scientist</th>\n",
       "      <td>0.018004</td>\n",
       "    </tr>\n",
       "  </tbody>\n",
       "</table>\n",
       "</div>"
      ],
      "text/plain": [
       "              importance\n",
       "consultant      0.035282\n",
       "alternance      0.031020\n",
       "junior          0.026269\n",
       "data            0.022814\n",
       "net             0.022592\n",
       "nodejs          0.022178\n",
       "informatique    0.021795\n",
       "web             0.021779\n",
       "analyst         0.019022\n",
       "scientist       0.018004"
      ]
     },
     "execution_count": 15,
     "metadata": {},
     "output_type": "execute_result"
    }
   ],
   "source": [
    "rf_features = pd.DataFrame(RF.feature_importances_,\n",
    "                                   index = df_train.columns,\n",
    "                                    columns=['importance']).sort_values('importance',\n",
    "                                                                        ascending=False)\n",
    "rf_features.head(10)"
   ]
  },
  {
   "cell_type": "code",
   "execution_count": 16,
   "metadata": {},
   "outputs": [
    {
     "data": {
      "text/html": [
       "<div>\n",
       "<style scoped>\n",
       "    .dataframe tbody tr th:only-of-type {\n",
       "        vertical-align: middle;\n",
       "    }\n",
       "\n",
       "    .dataframe tbody tr th {\n",
       "        vertical-align: top;\n",
       "    }\n",
       "\n",
       "    .dataframe thead th {\n",
       "        text-align: right;\n",
       "    }\n",
       "</style>\n",
       "<table border=\"1\" class=\"dataframe\">\n",
       "  <thead>\n",
       "    <tr style=\"text-align: right;\">\n",
       "      <th></th>\n",
       "      <th>(ALTERNANCE) Développeur Frontend - Chez l’un de nos partenaires</th>\n",
       "      <th>(ALTERNANCE) Développeur Java - Chez l’un de nos partenaires</th>\n",
       "      <th>(ALTERNANCE) Développeur PHP/Symfony - Chez l’un de nos partenaires</th>\n",
       "      <th>(ALTERNANCE) Développeur Python - Chez l’un de nos partenaires</th>\n",
       "      <th>(ALTERNANCE) Développeur Web - Chez l’un de nos partenaires</th>\n",
       "      <th>ALSA EMS - Alternance/Stage - Data Intelligence Specialist H/F</th>\n",
       "      <th>ANALYSTE CONTRÔLE QUALITÉ CODE SOURCE (H/F)</th>\n",
       "      <th>ANALYSTE CONTRÔLE QUALITÉ CODE SOURCE F/H</th>\n",
       "      <th>ATTACHE COMMERCIAL – SUD-EST H/F</th>\n",
       "      <th>Alternance - Assistant Data Analyst/PMO H/F</th>\n",
       "      <th>...</th>\n",
       "      <th>Responsable de centre de profit en création (H/F)</th>\n",
       "      <th>Senior Business Analyst H/F</th>\n",
       "      <th>Stage - Data Analyst (F/H)</th>\n",
       "      <th>Stagiaire Data Scientist</th>\n",
       "      <th>Stagiaire Data Scientist – Economic Advisory (H/F)</th>\n",
       "      <th>Stagiaire Opinion Data Analyst</th>\n",
       "      <th>Technico-Commercial h/f</th>\n",
       "      <th>UN ALTERNANT – DATA ANALYST (H/F)</th>\n",
       "      <th>Un développeur Java JEE/Angular sur Nancy / Freelance</th>\n",
       "      <th>Webmarketeur – Développeur multimédia h/f - Alternance</th>\n",
       "    </tr>\n",
       "  </thead>\n",
       "  <tbody>\n",
       "    <tr>\n",
       "      <th>0</th>\n",
       "      <td>0</td>\n",
       "      <td>0</td>\n",
       "      <td>0</td>\n",
       "      <td>0</td>\n",
       "      <td>0</td>\n",
       "      <td>0</td>\n",
       "      <td>0</td>\n",
       "      <td>0</td>\n",
       "      <td>0</td>\n",
       "      <td>0</td>\n",
       "      <td>...</td>\n",
       "      <td>0</td>\n",
       "      <td>0</td>\n",
       "      <td>0</td>\n",
       "      <td>0</td>\n",
       "      <td>0</td>\n",
       "      <td>0</td>\n",
       "      <td>0</td>\n",
       "      <td>0</td>\n",
       "      <td>0</td>\n",
       "      <td>0</td>\n",
       "    </tr>\n",
       "    <tr>\n",
       "      <th>1</th>\n",
       "      <td>0</td>\n",
       "      <td>0</td>\n",
       "      <td>0</td>\n",
       "      <td>0</td>\n",
       "      <td>0</td>\n",
       "      <td>0</td>\n",
       "      <td>0</td>\n",
       "      <td>0</td>\n",
       "      <td>0</td>\n",
       "      <td>0</td>\n",
       "      <td>...</td>\n",
       "      <td>0</td>\n",
       "      <td>0</td>\n",
       "      <td>0</td>\n",
       "      <td>0</td>\n",
       "      <td>0</td>\n",
       "      <td>0</td>\n",
       "      <td>0</td>\n",
       "      <td>0</td>\n",
       "      <td>0</td>\n",
       "      <td>0</td>\n",
       "    </tr>\n",
       "    <tr>\n",
       "      <th>2</th>\n",
       "      <td>0</td>\n",
       "      <td>0</td>\n",
       "      <td>0</td>\n",
       "      <td>0</td>\n",
       "      <td>0</td>\n",
       "      <td>0</td>\n",
       "      <td>0</td>\n",
       "      <td>0</td>\n",
       "      <td>0</td>\n",
       "      <td>1</td>\n",
       "      <td>...</td>\n",
       "      <td>0</td>\n",
       "      <td>0</td>\n",
       "      <td>0</td>\n",
       "      <td>0</td>\n",
       "      <td>0</td>\n",
       "      <td>0</td>\n",
       "      <td>0</td>\n",
       "      <td>0</td>\n",
       "      <td>0</td>\n",
       "      <td>0</td>\n",
       "    </tr>\n",
       "    <tr>\n",
       "      <th>3</th>\n",
       "      <td>0</td>\n",
       "      <td>0</td>\n",
       "      <td>0</td>\n",
       "      <td>0</td>\n",
       "      <td>0</td>\n",
       "      <td>0</td>\n",
       "      <td>0</td>\n",
       "      <td>0</td>\n",
       "      <td>0</td>\n",
       "      <td>0</td>\n",
       "      <td>...</td>\n",
       "      <td>0</td>\n",
       "      <td>0</td>\n",
       "      <td>0</td>\n",
       "      <td>0</td>\n",
       "      <td>0</td>\n",
       "      <td>0</td>\n",
       "      <td>0</td>\n",
       "      <td>0</td>\n",
       "      <td>0</td>\n",
       "      <td>0</td>\n",
       "    </tr>\n",
       "    <tr>\n",
       "      <th>4</th>\n",
       "      <td>0</td>\n",
       "      <td>0</td>\n",
       "      <td>0</td>\n",
       "      <td>0</td>\n",
       "      <td>0</td>\n",
       "      <td>0</td>\n",
       "      <td>0</td>\n",
       "      <td>0</td>\n",
       "      <td>0</td>\n",
       "      <td>0</td>\n",
       "      <td>...</td>\n",
       "      <td>0</td>\n",
       "      <td>0</td>\n",
       "      <td>0</td>\n",
       "      <td>0</td>\n",
       "      <td>0</td>\n",
       "      <td>0</td>\n",
       "      <td>0</td>\n",
       "      <td>0</td>\n",
       "      <td>0</td>\n",
       "      <td>0</td>\n",
       "    </tr>\n",
       "  </tbody>\n",
       "</table>\n",
       "<p>5 rows × 139 columns</p>\n",
       "</div>"
      ],
      "text/plain": [
       "   (ALTERNANCE) Développeur Frontend - Chez l’un de nos partenaires  \\\n",
       "0                                                  0                  \n",
       "1                                                  0                  \n",
       "2                                                  0                  \n",
       "3                                                  0                  \n",
       "4                                                  0                  \n",
       "\n",
       "   (ALTERNANCE) Développeur Java - Chez l’un de nos partenaires  \\\n",
       "0                                                  0              \n",
       "1                                                  0              \n",
       "2                                                  0              \n",
       "3                                                  0              \n",
       "4                                                  0              \n",
       "\n",
       "   (ALTERNANCE) Développeur PHP/Symfony - Chez l’un de nos partenaires  \\\n",
       "0                                                  0                     \n",
       "1                                                  0                     \n",
       "2                                                  0                     \n",
       "3                                                  0                     \n",
       "4                                                  0                     \n",
       "\n",
       "   (ALTERNANCE) Développeur Python - Chez l’un de nos partenaires  \\\n",
       "0                                                  0                \n",
       "1                                                  0                \n",
       "2                                                  0                \n",
       "3                                                  0                \n",
       "4                                                  0                \n",
       "\n",
       "   (ALTERNANCE) Développeur Web - Chez l’un de nos partenaires  \\\n",
       "0                                                  0             \n",
       "1                                                  0             \n",
       "2                                                  0             \n",
       "3                                                  0             \n",
       "4                                                  0             \n",
       "\n",
       "   ALSA EMS - Alternance/Stage - Data Intelligence Specialist H/F  \\\n",
       "0                                                  0                \n",
       "1                                                  0                \n",
       "2                                                  0                \n",
       "3                                                  0                \n",
       "4                                                  0                \n",
       "\n",
       "   ANALYSTE CONTRÔLE QUALITÉ CODE SOURCE (H/F)  \\\n",
       "0                                            0   \n",
       "1                                            0   \n",
       "2                                            0   \n",
       "3                                            0   \n",
       "4                                            0   \n",
       "\n",
       "   ANALYSTE CONTRÔLE QUALITÉ CODE SOURCE F/H  \\\n",
       "0                                          0   \n",
       "1                                          0   \n",
       "2                                          0   \n",
       "3                                          0   \n",
       "4                                          0   \n",
       "\n",
       "   ATTACHE COMMERCIAL – SUD-EST H/F  \\\n",
       "0                                 0   \n",
       "1                                 0   \n",
       "2                                 0   \n",
       "3                                 0   \n",
       "4                                 0   \n",
       "\n",
       "   Alternance - Assistant Data Analyst/PMO H/F  ...  \\\n",
       "0                                            0  ...   \n",
       "1                                            0  ...   \n",
       "2                                            1  ...   \n",
       "3                                            0  ...   \n",
       "4                                            0  ...   \n",
       "\n",
       "   Responsable de centre de profit en création (H/F)  \\\n",
       "0                                                  0   \n",
       "1                                                  0   \n",
       "2                                                  0   \n",
       "3                                                  0   \n",
       "4                                                  0   \n",
       "\n",
       "   Senior Business Analyst H/F  Stage - Data Analyst (F/H)  \\\n",
       "0                            0                           0   \n",
       "1                            0                           0   \n",
       "2                            0                           0   \n",
       "3                            0                           0   \n",
       "4                            0                           0   \n",
       "\n",
       "   Stagiaire Data Scientist  \\\n",
       "0                         0   \n",
       "1                         0   \n",
       "2                         0   \n",
       "3                         0   \n",
       "4                         0   \n",
       "\n",
       "   Stagiaire Data Scientist – Economic Advisory (H/F)  \\\n",
       "0                                                  0    \n",
       "1                                                  0    \n",
       "2                                                  0    \n",
       "3                                                  0    \n",
       "4                                                  0    \n",
       "\n",
       "   Stagiaire Opinion Data Analyst  Technico-Commercial h/f  \\\n",
       "0                               0                        0   \n",
       "1                               0                        0   \n",
       "2                               0                        0   \n",
       "3                               0                        0   \n",
       "4                               0                        0   \n",
       "\n",
       "   UN ALTERNANT – DATA ANALYST (H/F)  \\\n",
       "0                                  0   \n",
       "1                                  0   \n",
       "2                                  0   \n",
       "3                                  0   \n",
       "4                                  0   \n",
       "\n",
       "   Un développeur Java JEE/Angular sur Nancy / Freelance  \\\n",
       "0                                                  0       \n",
       "1                                                  0       \n",
       "2                                                  0       \n",
       "3                                                  0       \n",
       "4                                                  0       \n",
       "\n",
       "   Webmarketeur – Développeur multimédia h/f - Alternance  \n",
       "0                                                  0       \n",
       "1                                                  0       \n",
       "2                                                  0       \n",
       "3                                                  0       \n",
       "4                                                  0       \n",
       "\n",
       "[5 rows x 139 columns]"
      ]
     },
     "execution_count": 16,
     "metadata": {},
     "output_type": "execute_result"
    }
   ],
   "source": [
    "#créé des colone par titre de travaille \n",
    "dummys= pd.get_dummies(data['Titre'])\n",
    "dummys.head(5)"
   ]
  },
  {
   "cell_type": "code",
   "execution_count": 17,
   "metadata": {},
   "outputs": [],
   "source": [
    "import pandas as pd\n",
    "from IPython.display import Markdown, display\n",
    "from sklearn.model_selection import train_test_split\n",
    "import matplotlib.pyplot as plt\n",
    "from sklearn.metrics import roc_curve, auc\n",
    "import numpy as np\n",
    "from sklearn import metrics    \n",
    "from sklearn.linear_model import LogisticRegression\n",
    "from sklearn import svm\n",
    "from sklearn import tree\n",
    "from sklearn.ensemble import RandomForestClassifier\n",
    "from sklearn.neural_network import MLPClassifier\n",
    "from sklearn.ensemble import AdaBoostClassifier\n",
    "from sklearn.model_selection import cross_val_score\n",
    "from sklearn.metrics import accuracy_score\n",
    "from sklearn.metrics import roc_curve, auc\n",
    "from sklearn.preprocessing import label_binarize"
   ]
  },
  {
   "cell_type": "code",
   "execution_count": 18,
   "metadata": {
    "scrolled": true
   },
   "outputs": [
    {
     "data": {
      "text/html": [
       "<div>\n",
       "<style scoped>\n",
       "    .dataframe tbody tr th:only-of-type {\n",
       "        vertical-align: middle;\n",
       "    }\n",
       "\n",
       "    .dataframe tbody tr th {\n",
       "        vertical-align: top;\n",
       "    }\n",
       "\n",
       "    .dataframe thead th {\n",
       "        text-align: right;\n",
       "    }\n",
       "</style>\n",
       "<table border=\"1\" class=\"dataframe\">\n",
       "  <thead>\n",
       "    <tr style=\"text-align: right;\">\n",
       "      <th></th>\n",
       "      <th>avg</th>\n",
       "      <th>dumsal</th>\n",
       "      <th>(ALTERNANCE) Développeur Frontend - Chez l’un de nos partenaires</th>\n",
       "      <th>(ALTERNANCE) Développeur Java - Chez l’un de nos partenaires</th>\n",
       "      <th>(ALTERNANCE) Développeur PHP/Symfony - Chez l’un de nos partenaires</th>\n",
       "      <th>(ALTERNANCE) Développeur Python - Chez l’un de nos partenaires</th>\n",
       "      <th>(ALTERNANCE) Développeur Web - Chez l’un de nos partenaires</th>\n",
       "      <th>ALSA EMS - Alternance/Stage - Data Intelligence Specialist H/F</th>\n",
       "      <th>ANALYSTE CONTRÔLE QUALITÉ CODE SOURCE (H/F)</th>\n",
       "      <th>ANALYSTE CONTRÔLE QUALITÉ CODE SOURCE F/H</th>\n",
       "      <th>...</th>\n",
       "      <th>Mérignac (33)</th>\n",
       "      <th>Nancy (54)</th>\n",
       "      <th>Noisy-le-Sec (93)</th>\n",
       "      <th>Paris (75)</th>\n",
       "      <th>Paris 18e (75)</th>\n",
       "      <th>Paris 2e (75)</th>\n",
       "      <th>Paris 9e (75)</th>\n",
       "      <th>Rueil-Malmaison (92)</th>\n",
       "      <th>Tassin-la-Demi-Lune (69)</th>\n",
       "      <th>Île-de-France</th>\n",
       "    </tr>\n",
       "  </thead>\n",
       "  <tbody>\n",
       "    <tr>\n",
       "      <th>0</th>\n",
       "      <td>1125.0</td>\n",
       "      <td>0</td>\n",
       "      <td>0</td>\n",
       "      <td>0</td>\n",
       "      <td>0</td>\n",
       "      <td>0</td>\n",
       "      <td>0</td>\n",
       "      <td>0</td>\n",
       "      <td>0</td>\n",
       "      <td>0</td>\n",
       "      <td>...</td>\n",
       "      <td>0</td>\n",
       "      <td>0</td>\n",
       "      <td>0</td>\n",
       "      <td>1</td>\n",
       "      <td>0</td>\n",
       "      <td>0</td>\n",
       "      <td>0</td>\n",
       "      <td>0</td>\n",
       "      <td>0</td>\n",
       "      <td>0</td>\n",
       "    </tr>\n",
       "    <tr>\n",
       "      <th>1</th>\n",
       "      <td>1500.0</td>\n",
       "      <td>0</td>\n",
       "      <td>0</td>\n",
       "      <td>0</td>\n",
       "      <td>0</td>\n",
       "      <td>0</td>\n",
       "      <td>0</td>\n",
       "      <td>0</td>\n",
       "      <td>0</td>\n",
       "      <td>0</td>\n",
       "      <td>...</td>\n",
       "      <td>0</td>\n",
       "      <td>0</td>\n",
       "      <td>0</td>\n",
       "      <td>0</td>\n",
       "      <td>0</td>\n",
       "      <td>0</td>\n",
       "      <td>0</td>\n",
       "      <td>0</td>\n",
       "      <td>0</td>\n",
       "      <td>0</td>\n",
       "    </tr>\n",
       "    <tr>\n",
       "      <th>2</th>\n",
       "      <td>1125.0</td>\n",
       "      <td>0</td>\n",
       "      <td>0</td>\n",
       "      <td>0</td>\n",
       "      <td>0</td>\n",
       "      <td>0</td>\n",
       "      <td>0</td>\n",
       "      <td>0</td>\n",
       "      <td>0</td>\n",
       "      <td>0</td>\n",
       "      <td>...</td>\n",
       "      <td>0</td>\n",
       "      <td>0</td>\n",
       "      <td>0</td>\n",
       "      <td>1</td>\n",
       "      <td>0</td>\n",
       "      <td>0</td>\n",
       "      <td>0</td>\n",
       "      <td>0</td>\n",
       "      <td>0</td>\n",
       "      <td>0</td>\n",
       "    </tr>\n",
       "    <tr>\n",
       "      <th>3</th>\n",
       "      <td>800.0</td>\n",
       "      <td>0</td>\n",
       "      <td>0</td>\n",
       "      <td>0</td>\n",
       "      <td>0</td>\n",
       "      <td>0</td>\n",
       "      <td>0</td>\n",
       "      <td>0</td>\n",
       "      <td>0</td>\n",
       "      <td>0</td>\n",
       "      <td>...</td>\n",
       "      <td>0</td>\n",
       "      <td>0</td>\n",
       "      <td>0</td>\n",
       "      <td>0</td>\n",
       "      <td>0</td>\n",
       "      <td>0</td>\n",
       "      <td>0</td>\n",
       "      <td>0</td>\n",
       "      <td>0</td>\n",
       "      <td>0</td>\n",
       "    </tr>\n",
       "    <tr>\n",
       "      <th>4</th>\n",
       "      <td>3150.0</td>\n",
       "      <td>1</td>\n",
       "      <td>0</td>\n",
       "      <td>0</td>\n",
       "      <td>0</td>\n",
       "      <td>0</td>\n",
       "      <td>0</td>\n",
       "      <td>0</td>\n",
       "      <td>0</td>\n",
       "      <td>0</td>\n",
       "      <td>...</td>\n",
       "      <td>0</td>\n",
       "      <td>0</td>\n",
       "      <td>0</td>\n",
       "      <td>0</td>\n",
       "      <td>0</td>\n",
       "      <td>0</td>\n",
       "      <td>1</td>\n",
       "      <td>0</td>\n",
       "      <td>0</td>\n",
       "      <td>0</td>\n",
       "    </tr>\n",
       "  </tbody>\n",
       "</table>\n",
       "<p>5 rows × 164 columns</p>\n",
       "</div>"
      ],
      "text/plain": [
       "      avg  dumsal  \\\n",
       "0  1125.0       0   \n",
       "1  1500.0       0   \n",
       "2  1125.0       0   \n",
       "3   800.0       0   \n",
       "4  3150.0       1   \n",
       "\n",
       "   (ALTERNANCE) Développeur Frontend - Chez l’un de nos partenaires  \\\n",
       "0                                                  0                  \n",
       "1                                                  0                  \n",
       "2                                                  0                  \n",
       "3                                                  0                  \n",
       "4                                                  0                  \n",
       "\n",
       "   (ALTERNANCE) Développeur Java - Chez l’un de nos partenaires  \\\n",
       "0                                                  0              \n",
       "1                                                  0              \n",
       "2                                                  0              \n",
       "3                                                  0              \n",
       "4                                                  0              \n",
       "\n",
       "   (ALTERNANCE) Développeur PHP/Symfony - Chez l’un de nos partenaires  \\\n",
       "0                                                  0                     \n",
       "1                                                  0                     \n",
       "2                                                  0                     \n",
       "3                                                  0                     \n",
       "4                                                  0                     \n",
       "\n",
       "   (ALTERNANCE) Développeur Python - Chez l’un de nos partenaires  \\\n",
       "0                                                  0                \n",
       "1                                                  0                \n",
       "2                                                  0                \n",
       "3                                                  0                \n",
       "4                                                  0                \n",
       "\n",
       "   (ALTERNANCE) Développeur Web - Chez l’un de nos partenaires  \\\n",
       "0                                                  0             \n",
       "1                                                  0             \n",
       "2                                                  0             \n",
       "3                                                  0             \n",
       "4                                                  0             \n",
       "\n",
       "   ALSA EMS - Alternance/Stage - Data Intelligence Specialist H/F  \\\n",
       "0                                                  0                \n",
       "1                                                  0                \n",
       "2                                                  0                \n",
       "3                                                  0                \n",
       "4                                                  0                \n",
       "\n",
       "   ANALYSTE CONTRÔLE QUALITÉ CODE SOURCE (H/F)  \\\n",
       "0                                            0   \n",
       "1                                            0   \n",
       "2                                            0   \n",
       "3                                            0   \n",
       "4                                            0   \n",
       "\n",
       "   ANALYSTE CONTRÔLE QUALITÉ CODE SOURCE F/H  ...  Mérignac (33)  Nancy (54)  \\\n",
       "0                                          0  ...              0           0   \n",
       "1                                          0  ...              0           0   \n",
       "2                                          0  ...              0           0   \n",
       "3                                          0  ...              0           0   \n",
       "4                                          0  ...              0           0   \n",
       "\n",
       "   Noisy-le-Sec (93)  Paris (75)  Paris 18e (75)  Paris 2e (75)  \\\n",
       "0                  0           1               0              0   \n",
       "1                  0           0               0              0   \n",
       "2                  0           1               0              0   \n",
       "3                  0           0               0              0   \n",
       "4                  0           0               0              0   \n",
       "\n",
       "   Paris 9e (75)  Rueil-Malmaison (92)  Tassin-la-Demi-Lune (69)  \\\n",
       "0              0                     0                         0   \n",
       "1              0                     0                         0   \n",
       "2              0                     0                         0   \n",
       "3              0                     0                         0   \n",
       "4              1                     0                         0   \n",
       "\n",
       "   Île-de-France  \n",
       "0              0  \n",
       "1              0  \n",
       "2              0  \n",
       "3              0  \n",
       "4              0  \n",
       "\n",
       "[5 rows x 164 columns]"
      ]
     },
     "execution_count": 18,
     "metadata": {},
     "output_type": "execute_result"
    }
   ],
   "source": [
    "dummys_city= pd.get_dummies(data['city'])\n",
    "dummys_city.head(5)\n",
    "data= pd.concat([data,dummys], axis=1)\n",
    "data.head(5)\n",
    "data= pd.concat([data,dummys_city], axis=1)\n",
    "data.drop(columns = ['Unnamed: 0', 'Titre','Company','cityfrance','city'], inplace = True)\n",
    "data.drop(columns = ['Summaries'], inplace = True)\n",
    "data.head(5)\n"
   ]
  },
  {
   "cell_type": "code",
   "execution_count": 26,
   "metadata": {},
   "outputs": [],
   "source": [
    "y=data['avg']\n",
    "X=data.drop(['avg'], axis=1)\n",
    "#X= pd.get_dummies(X.select_dtypes('object'))\n",
    "#X1 = X.select_dtypes(exclude = 'object')\n",
    "#X = pd.concat([X1, X], axis=1, join='inner')\n"
   ]
  },
  {
   "cell_type": "code",
   "execution_count": 27,
   "metadata": {},
   "outputs": [
    {
     "data": {
      "text/plain": [
       "0    1125.0\n",
       "1    1500.0\n",
       "2    1125.0\n",
       "3     800.0\n",
       "4    3150.0\n",
       "Name: avg, dtype: float64"
      ]
     },
     "execution_count": 27,
     "metadata": {},
     "output_type": "execute_result"
    }
   ],
   "source": [
    "X.head(5)\n",
    "y.head(5)"
   ]
  },
  {
   "cell_type": "code",
   "execution_count": 28,
   "metadata": {},
   "outputs": [],
   "source": [
    "# Train - Test split\n",
    "train_data, test_data, train_label, test_label = train_test_split(X, y, test_size  = 0.25)"
   ]
  },
  {
   "cell_type": "code",
   "execution_count": 29,
   "metadata": {},
   "outputs": [],
   "source": [
    "import pandas as pd\n",
    "import xgboost as xgb\n",
    "from sklearn.datasets import load_boston\n",
    "from sklearn.model_selection import train_test_split\n",
    "from sklearn.metrics import mean_squared_error"
   ]
  },
  {
   "cell_type": "code",
   "execution_count": 52,
   "metadata": {},
   "outputs": [],
   "source": [
    "regressor = xgb.XGBRegressor(\n",
    "    n_estimators=163,\n",
    "    reg_lambda=1,\n",
    "    gamma=0,\n",
    "    max_depth=163\n",
    ")"
   ]
  },
  {
   "cell_type": "code",
   "execution_count": 53,
   "metadata": {},
   "outputs": [
    {
     "name": "stdout",
     "output_type": "stream",
     "text": [
      "[17:28:18] WARNING: src/objective/regression_obj.cu:152: reg:linear is now deprecated in favor of reg:squarederror.\n"
     ]
    },
    {
     "data": {
      "text/plain": [
       "XGBRegressor(base_score=0.5, booster='gbtree', colsample_bylevel=1,\n",
       "             colsample_bynode=1, colsample_bytree=1, gamma=0,\n",
       "             importance_type='gain', learning_rate=0.1, max_delta_step=0,\n",
       "             max_depth=163, min_child_weight=1, missing=None, n_estimators=163,\n",
       "             n_jobs=1, nthread=None, objective='reg:linear', random_state=0,\n",
       "             reg_alpha=0, reg_lambda=1, scale_pos_weight=1, seed=None,\n",
       "             silent=None, subsample=1, verbosity=1)"
      ]
     },
     "execution_count": 53,
     "metadata": {},
     "output_type": "execute_result"
    }
   ],
   "source": [
    "regressor.fit(train_data, train_label)"
   ]
  },
  {
   "cell_type": "code",
   "execution_count": 54,
   "metadata": {},
   "outputs": [
    {
     "data": {
      "text/html": [
       "<div>\n",
       "<style scoped>\n",
       "    .dataframe tbody tr th:only-of-type {\n",
       "        vertical-align: middle;\n",
       "    }\n",
       "\n",
       "    .dataframe tbody tr th {\n",
       "        vertical-align: top;\n",
       "    }\n",
       "\n",
       "    .dataframe thead th {\n",
       "        text-align: right;\n",
       "    }\n",
       "</style>\n",
       "<table border=\"1\" class=\"dataframe\">\n",
       "  <thead>\n",
       "    <tr style=\"text-align: right;\">\n",
       "      <th></th>\n",
       "      <th>0</th>\n",
       "      <th>1</th>\n",
       "      <th>2</th>\n",
       "      <th>3</th>\n",
       "      <th>4</th>\n",
       "      <th>5</th>\n",
       "      <th>6</th>\n",
       "      <th>7</th>\n",
       "      <th>8</th>\n",
       "      <th>9</th>\n",
       "      <th>...</th>\n",
       "      <th>153</th>\n",
       "      <th>154</th>\n",
       "      <th>155</th>\n",
       "      <th>156</th>\n",
       "      <th>157</th>\n",
       "      <th>158</th>\n",
       "      <th>159</th>\n",
       "      <th>160</th>\n",
       "      <th>161</th>\n",
       "      <th>162</th>\n",
       "    </tr>\n",
       "  </thead>\n",
       "  <tbody>\n",
       "    <tr>\n",
       "      <th>0</th>\n",
       "      <td>0.177348</td>\n",
       "      <td>0.001487</td>\n",
       "      <td>0.002233</td>\n",
       "      <td>0.005844</td>\n",
       "      <td>0.000049</td>\n",
       "      <td>0.007823</td>\n",
       "      <td>0.022335</td>\n",
       "      <td>0.0</td>\n",
       "      <td>0.00002</td>\n",
       "      <td>0.0</td>\n",
       "      <td>...</td>\n",
       "      <td>0.001307</td>\n",
       "      <td>0.006856</td>\n",
       "      <td>0.0</td>\n",
       "      <td>6.841466e-10</td>\n",
       "      <td>0.010459</td>\n",
       "      <td>0.000289</td>\n",
       "      <td>0.001668</td>\n",
       "      <td>0.0</td>\n",
       "      <td>0.000006</td>\n",
       "      <td>0.0</td>\n",
       "    </tr>\n",
       "  </tbody>\n",
       "</table>\n",
       "<p>1 rows × 163 columns</p>\n",
       "</div>"
      ],
      "text/plain": [
       "        0         1         2         3         4         5         6    7    \\\n",
       "0  0.177348  0.001487  0.002233  0.005844  0.000049  0.007823  0.022335  0.0   \n",
       "\n",
       "       8    9    ...       153       154  155           156       157  \\\n",
       "0  0.00002  0.0  ...  0.001307  0.006856  0.0  6.841466e-10  0.010459   \n",
       "\n",
       "        158       159  160       161  162  \n",
       "0  0.000289  0.001668  0.0  0.000006  0.0  \n",
       "\n",
       "[1 rows x 163 columns]"
      ]
     },
     "execution_count": 54,
     "metadata": {},
     "output_type": "execute_result"
    }
   ],
   "source": [
    "pd.DataFrame(regressor.feature_importances_.reshape(1, -1))"
   ]
  },
  {
   "cell_type": "code",
   "execution_count": 55,
   "metadata": {},
   "outputs": [],
   "source": [
    "y_pred = regressor.predict(test_data)"
   ]
  },
  {
   "cell_type": "code",
   "execution_count": 56,
   "metadata": {},
   "outputs": [
    {
     "data": {
      "text/plain": [
       "348714.7137936787"
      ]
     },
     "execution_count": 56,
     "metadata": {},
     "output_type": "execute_result"
    }
   ],
   "source": [
    "mean_squared_error(test_label, y_pred)"
   ]
  },
  {
   "cell_type": "code",
   "execution_count": 57,
   "metadata": {},
   "outputs": [
    {
     "name": "stdout",
     "output_type": "stream",
     "text": [
      "Score Train --> 100.0  %\n"
     ]
    }
   ],
   "source": [
    "print(\"Score Train -->\", round(regressor.score(test_data, y_pred) *100,2), \" %\")\n"
   ]
  },
  {
   "cell_type": "code",
   "execution_count": 58,
   "metadata": {},
   "outputs": [
    {
     "data": {
      "text/plain": [
       "<matplotlib.axes._subplots.AxesSubplot at 0x1a1c4f6950>"
      ]
     },
     "execution_count": 58,
     "metadata": {},
     "output_type": "execute_result"
    },
    {
     "data": {
      "image/png": "[encoded data removed]",
      "text/plain": [
       "<Figure size 432x288 with 1 Axes>"
      ]
     },
     "metadata": {
      "needs_background": "light"
     },
     "output_type": "display_data"
    }
   ],
   "source": [
    "xgb.plot_importance(regressor)\n"
   ]
  },
  {
   "cell_type": "code",
   "execution_count": 59,
   "metadata": {},
   "outputs": [
    {
     "name": "stdout",
     "output_type": "stream",
     "text": [
      "[3734.3948 2099.9995 2099.9778 2877.468  3586.9497 2825.7493 2137.4368\n",
      " 3612.6877 2354.9993 3399.9895 2354.9724 2354.9817 2861.4583 2099.9995\n",
      " 2099.7725 3399.9895 2354.9998 2100.021  2978.1863 2100.017  3399.9895\n",
      " 2633.4978 2099.9949 2099.7715 2100.021  3020.3376 3399.9895 2099.998\n",
      " 2099.7769 2978.1863 2832.5012 2169.7632 2355.9849 2703.3318 3399.9895\n",
      " 2099.997  2354.9897 3399.9895 2100.1045 2100.198  2099.9993 2099.999\n",
      " 2849.9978 2929.2874 1599.9991 2099.985  2099.999  3399.9895 2099.9993\n",
      " 2364.539  2099.982  2101.58   2099.9976 2861.4583 2354.9976 2977.4846\n",
      " 2099.999  3399.9895 2099.773  3399.9895 3399.9895 2633.4978 2354.9998\n",
      " 3399.855  2703.3318  550.8764 3586.9497 2354.9988 2274.3315 2099.9993\n",
      " 2849.9978 2099.9993] 24     3736.0\n",
      "166    2100.0\n",
      "181    2100.0\n",
      "221    2850.0\n",
      "237    3400.0\n",
      "        ...  \n",
      "109    2355.0\n",
      "7      1125.0\n",
      "90     2100.0\n",
      "280    2850.0\n",
      "121    2100.0\n",
      "Name: avg, Length: 72, dtype: float64\n"
     ]
    }
   ],
   "source": [
    "print(y_pred,test_label)"
   ]
  },
  {
   "cell_type": "code",
   "execution_count": 101,
   "metadata": {},
   "outputs": [
    {
     "data": {
      "text/plain": [
       "<matplotlib.lines.Line2D at 0x1a1b2084d0>"
      ]
     },
     "execution_count": 101,
     "metadata": {},
     "output_type": "execute_result"
    },
    {
     "data": {
      "image/png": "[encoded data removed]",
      "text/plain": [
       "<Figure size 432x288 with 1 Axes>"
      ]
     },
     "metadata": {
      "needs_background": "light"
     },
     "output_type": "display_data"
    }
   ],
   "source": [
    "import seaborn as sns\n",
    "import matplotlib.pyplot as plt\n",
    "ax = sns.distplot(test_label, bins=10)\n",
    "ax.axvline(test_label.mean(), c='r')\n"
   ]
  },
  {
   "cell_type": "code",
   "execution_count": 102,
   "metadata": {},
   "outputs": [
    {
     "data": {
      "text/plain": [
       "<matplotlib.lines.Line2D at 0x1a1b316b10>"
      ]
     },
     "execution_count": 102,
     "metadata": {},
     "output_type": "execute_result"
    },
    {
     "data": {
      "image/png": "[encoded data removed]",
      "text/plain": [
       "<Figure size 432x288 with 1 Axes>"
      ]
     },
     "metadata": {
      "needs_background": "light"
     },
     "output_type": "display_data"
    }
   ],
   "source": [
    "import seaborn as sns\n",
    "import matplotlib.pyplot as plt\n",
    "ax = sns.distplot(y_pred, bins=10)\n",
    "ax.axvline(y_pred.mean(), c='r')\n"
   ]
  },
  {
   "cell_type": "code",
   "execution_count": 68,
   "metadata": {},
   "outputs": [],
   "source": [
    "\n",
    "\n",
    "# Normalization\n",
    "from sklearn.preprocessing import StandardScaler  \n",
    "scaler = StandardScaler()  \n",
    "\n",
    "# Fitting only on training data\n",
    "scaler.fit(train_data)  \n",
    "train_data = scaler.transform(train_data)  \n",
    "\n",
    "# Applying same transformation to test data\n",
    "test_data = scaler.transform(test_data)"
   ]
  },
  {
   "cell_type": "code",
   "execution_count": 38,
   "metadata": {},
   "outputs": [],
   "source": [
    "# Simple example for beginers how to adress \"\"\n",
    "import numpy as np\n",
    "from sklearn                        import metrics, svm\n",
    "from sklearn.linear_model           import LogisticRegression\n",
    "from sklearn import preprocessing\n",
    "from sklearn import utils\n"
   ]
  },
  {
   "cell_type": "code",
   "execution_count": 39,
   "metadata": {},
   "outputs": [
    {
     "data": {
      "text/plain": [
       "LinearRegression(copy_X=True, fit_intercept=True, n_jobs=None, normalize=False)"
      ]
     },
     "execution_count": 39,
     "metadata": {},
     "output_type": "execute_result"
    }
   ],
   "source": [
    "#entrainement du modèle\n",
    "from sklearn.linear_model import LinearRegression\n",
    "from sklearn.metrics import mean_squared_error\n",
    " \n",
    "lmodellineaire = LinearRegression()\n",
    "lmodellineaire.fit(train_data, train_label)\n"
   ]
  },
  {
   "cell_type": "code",
   "execution_count": 40,
   "metadata": {},
   "outputs": [
    {
     "name": "stdout",
     "output_type": "stream",
     "text": [
      "La performance du modèle sur la base dapprentissage\n",
      "--------------------------------------\n",
      "Lerreur quadratique moyenne est 8.078263602042472e+16\n",
      "le score R2 est -1.543012403858409e+28\n",
      "\n",
      "\n"
     ]
    }
   ],
   "source": [
    "# Evaluation du training set\n",
    "from sklearn.metrics import r2_score\n",
    "y_test_predict = lmodellineaire.predict(test_data)\n",
    "rmse = (np.sqrt(mean_squared_error(test_label, y_test_predict)))\n",
    "r2 = r2_score(test_label, y_test_predict)\n",
    " \n",
    "print('La performance du modèle sur la base dapprentissage')\n",
    "print('--------------------------------------')\n",
    "print('Lerreur quadratique moyenne est {}'.format(rmse))\n",
    "print('le score R2 est {}'.format(r2))\n",
    "print('\\n')"
   ]
  },
  {
   "cell_type": "code",
   "execution_count": 24,
   "metadata": {},
   "outputs": [
    {
     "name": "stdout",
     "output_type": "stream",
     "text": [
      "(ALTERNANCE) Développeur Python - Chez l’un de nos partenaires         10\n",
      "Développeur Full Stack et Web (F/H) DW-PRE-NA158                       10\n",
      "Développeur (F/H) DEV-PRE-PNL80                                        10\n",
      "Développeur Java Alfresco                                               9\n",
      "(ALTERNANCE) Développeur PHP/Symfony - Chez l’un de nos partenaires     9\n",
      "                                                                       ..\n",
      "MEDIA TRADER /DATA ANALYST F/H                                          1\n",
      "Senior Business Analyst H/F                                             1\n",
      "Consultant Data Scientist (H/F)                                         1\n",
      "ANALYSTE CONTRÔLE QUALITÉ CODE SOURCE (H/F)                             1\n",
      "Data Scientist – Machine Learning – Artificial Intelligence             1\n",
      "Name: Titre, Length: 139, dtype: int64\n"
     ]
    }
   ],
   "source": [
    "print(data.Titre.value_counts())"
   ]
  },
  {
   "cell_type": "code",
   "execution_count": 25,
   "metadata": {},
   "outputs": [
    {
     "name": "stdout",
     "output_type": "stream",
     "text": [
      "OpenClassrooms              52\n",
      "HAYS                        20\n",
      "Premista                    15\n",
      "Pharmagest                  10\n",
      "CCM Benchmark Group          9\n",
      "                            ..\n",
      "Delta Security Solutions     1\n",
      "Berger-Levrault              1\n",
      "Alptis                       1\n",
      "MGEN                         1\n",
      "Distributeur Indépendant     1\n",
      "Name: Company, Length: 115, dtype: int64\n"
     ]
    }
   ],
   "source": [
    "print(data.Company.value_counts())"
   ]
  },
  {
   "cell_type": "code",
   "execution_count": 27,
   "metadata": {},
   "outputs": [
    {
     "data": {
      "text/plain": [
       "France                         87\n",
       "Bordeaux (33)                  54\n",
       "Metz (57)                      26\n",
       "Tassin-la-Demi-Lune (69)       14\n",
       "Nancy (54)                     11\n",
       "Craponne (69)                  11\n",
       "Levallois-Perret (92)          11\n",
       "Brignais (69)                  10\n",
       "Paris 9e (75)                   8\n",
       "Paris (75)                      8\n",
       "Lozanne (69)                    7\n",
       "Lyon 9e (69)                    6\n",
       "Champagne-au-Mont-d'Or (69)     5\n",
       "Mérignac (33)                   5\n",
       "Paris 2e (75)                   5\n",
       "Lyon (69)                       5\n",
       "Gennevilliers (92)              3\n",
       "Asnières-sur-Seine (92)         3\n",
       "Paris 18e (75)                  2\n",
       "Rueil-Malmaison (92)            2\n",
       "Châtillon (92)                  2\n",
       "Noisy-le-Sec (93)               1\n",
       "Île-de-France                   1\n",
       "Name: city, dtype: int64"
      ]
     },
     "execution_count": 27,
     "metadata": {},
     "output_type": "execute_result"
    }
   ],
   "source": [
    "data.city.value_counts()[0:30]\n"
   ]
  },
  {
   "cell_type": "code",
   "execution_count": 32,
   "metadata": {},
   "outputs": [
    {
     "data": {
      "text/plain": [
       "Titre                                                             avg   \n",
       "(ALTERNANCE) Développeur Frontend - Chez l’un de nos partenaires  2100.0    4\n",
       "                                                                  2355.0    4\n",
       "                                                                  2850.0    1\n",
       "(ALTERNANCE) Développeur Java - Chez l’un de nos partenaires      2355.0    3\n",
       "                                                                  2100.0    2\n",
       "                                                                           ..\n",
       "UN ALTERNANT – DATA ANALYST (H/F)                                 3400.0    1\n",
       "Un développeur Java JEE/Angular sur Nancy / Freelance             2355.0    1\n",
       "Webmarketeur – Développeur multimédia h/f - Alternance            2100.0    3\n",
       "                                                                  2355.0    2\n",
       "                                                                  2650.0    1\n",
       "Name: avg, Length: 211, dtype: int64"
      ]
     },
     "execution_count": 32,
     "metadata": {},
     "output_type": "execute_result"
    }
   ],
   "source": [
    "data.groupby('Titre')['avg'].value_counts()\n"
   ]
  }
 ],
 "metadata": {
  "kernelspec": {
   "display_name": "Python 3",
   "language": "python",
   "name": "python3"
  },
  "language_info": {
   "codemirror_mode": {
    "name": "ipython",
    "version": 3
   },
   "file_extension": ".py",
   "mimetype": "text/x-python",
   "name": "python",
   "nbconvert_exporter": "python",
   "pygments_lexer": "ipython3",
   "version": "3.7.6"
  }
 },
 "nbformat": 4,
 "nbformat_minor": 4
}
