{
 "cells": [
  {
   "cell_type": "code",
   "execution_count": 1,
   "metadata": {},
   "outputs": [
    {
     "name": "stdout",
     "output_type": "stream",
     "text": [
      "<!DOCTYPE html>\n",
      "<html lang=\"fr\" dir=\"ltr\">\n",
      "<head>\n",
      "<meta http-equiv=\"content-type\" content=\"text/html;charset=UTF-8\">\n",
      "<script type=\"text/javascript\">\n",
      "\n",
      "(function ( tk ) { if ( tk && document.images ) { var s=\"/\", q=\"?\", a=\"&\", e=\"=\"; (new Image()).src = s+\"rpc\"+s+\"log\"+q+\"a\"+e+\"jslat\"+a+\"tk\"+e+tk; } })('1e8orgm9f99oh800');\n",
      "</script>\n",
      "<script type=\"text/javascript\" src=\"/s/870cbe7/fr_FR.js\"></script>\n",
      "<link href=\"/s/b512638/jobsearch_all.css\" rel=\"stylesheet\" type=\"text/css\">\n",
      "<link rel=\"alternate\" ty\n"
     ]
    },
    {
     "data": {
      "text/plain": [
       "bs4.BeautifulSoup"
      ]
     },
     "execution_count": 1,
     "metadata": {},
     "output_type": "execute_result"
    }
   ],
   "source": [
    "from bs4 import BeautifulSoup\n",
    "import requests\n",
    "import pandas as pd\n",
    "import requests\n",
    "import bs4\n",
    "from bs4 import BeautifulSoup\n",
    "import pandas as pd\n",
    "import time\n",
    "import numpy as np\n",
    "\n",
    "from requests import get \n",
    "\n",
    "url='https://www.indeed.fr/emplois?q=développeur%2C+data+scientist%2C+data+analyst%2C+business+intelligence&l=France'\n",
    "response = get(url)\n",
    "print(response.text[:500])\n",
    "\n",
    "soup=BeautifulSoup(response.text,'html.parser')\n",
    "type(soup)"
   ]
  },
  {
   "cell_type": "code",
   "execution_count": 2,
   "metadata": {},
   "outputs": [],
   "source": [
    "\n",
    "dflocation = pd.DataFrame(columns=[\"location\"])\n",
    "dfcompany = pd.DataFrame(columns=[\"company\"])\n",
    "dfjob_title = pd.DataFrame(columns=[\"job_title\"])\n",
    "dfsalary = pd.DataFrame(columns=[\"salary\"])\n",
    "dfsummary= pd.DataFrame(columns=[\"summary\"])\n",
    "cities = ['Paris','Nancy','Lyon','Bordeaux','Metz','Toulouse','Marseille','Lille','Strasbourg','Nice']\n",
    "df = pd.DataFrame(columns=[\"location\", 'company', 'job_title', 'salary','summary'])\n",
    "max_results_per_city = 200\n"
   ]
  },
  {
   "cell_type": "code",
   "execution_count": 3,
   "metadata": {},
   "outputs": [],
   "source": [
    "def extract_job_title_from_result(soup):\n",
    "    jobs = []\n",
    "\n",
    "    for city in cities:\n",
    "        for start in range(0, max_results_per_city, 10):\n",
    "            page=requests.get('https://www.indeed.fr/emplois?q=développeur%2C+data+scientist%2C+data+analyst%2C+business+intelligence&l=' + str(city) + '&start=' + str(start))\n",
    "            time.sleep(1)\n",
    "            soup = BeautifulSoup(page.text,\"lxml\",from_encoding=\"utf-8\")\n",
    "            for div in soup.find_all(name=\"div\", attrs={\"class\":\"row\"}):\n",
    "                for a in div.find_all(name=\"a\", attrs={\"data-tn-element\":\"jobTitle\"}):\n",
    "                    jobs.append(a[\"title\"])\n",
    "    return(jobs)\n"
   ]
  },
  {
   "cell_type": "code",
   "execution_count": 5,
   "metadata": {},
   "outputs": [],
   "source": [
    "\n",
    "titre=extract_job_title_from_result(soup)\n"
   ]
  },
  {
   "cell_type": "code",
   "execution_count": null,
   "metadata": {
    "scrolled": true
   },
   "outputs": [],
   "source": []
  },
  {
   "cell_type": "code",
   "execution_count": null,
   "metadata": {},
   "outputs": [],
   "source": []
  },
  {
   "cell_type": "code",
   "execution_count": null,
   "metadata": {},
   "outputs": [],
   "source": []
  },
  {
   "cell_type": "code",
   "execution_count": 6,
   "metadata": {},
   "outputs": [],
   "source": [
    "def extract_company_from_result(soup):\n",
    "    companies = []\n",
    "   \n",
    "    for city in cities:\n",
    "        for start in range(0, max_results_per_city, 10):\n",
    "            page=requests.get('https://www.indeed.fr/emplois?q=développeur%2C+data+scientist%2C+data+analyst%2C+business+intelligence&l=' + str(city) + '&start=' + str(start))\n",
    "            time.sleep(1)\n",
    "            soup = BeautifulSoup(page.text,\"lxml\",from_encoding=\"utf-8\")       \n",
    "            for div in soup.find_all(name=\"div\", attrs={\"class\":\"row\"}):\n",
    "                company = div.find_all(name=\"span\", attrs={\"class\":\"company\"})\n",
    "                if len(company) > 0:\n",
    "                    for b in company:     \n",
    "                        companies.append(b.text.strip())   \n",
    "                else:   \n",
    "                    sec_try = div.find_all(name=\"span\", attrs={\"class\":\"result-link-source\"})\n",
    "                    for span in sec_try: \n",
    "                          companies.append(span.text.strip())\n",
    "    return(companies)\n"
   ]
  },
  {
   "cell_type": "code",
   "execution_count": 7,
   "metadata": {},
   "outputs": [],
   "source": [
    "company = extract_company_from_result(soup)"
   ]
  },
  {
   "cell_type": "code",
   "execution_count": 8,
   "metadata": {},
   "outputs": [],
   "source": [
    "def extract_location_from_result(soup):\n",
    "    locations = [] \n",
    "   \n",
    "    for city in cities:\n",
    "        for start in range(0, max_results_per_city, 10):\n",
    "            page=requests.get('https://www.indeed.fr/emplois?q=développeur%2C+data+scientist%2C+data+analyst%2C+business+intelligence&l=' + str(city) + '&start=' + str(start))\n",
    "            time.sleep(1)\n",
    "            soup = BeautifulSoup(page.text,\"lxml\",from_encoding=\"utf-8\")       \n",
    "            loc = soup.findAll('div', attrs={'class': 'location accessible-contrast-color-location'})   \n",
    "            for div in soup.find_all(name=\"div\", attrs={'class': 'location accessible-contrast-color-location'}):      \n",
    "                locations.append(div.text)  \n",
    "    return(locations)\n",
    "#extract_location_from_result(soup)"
   ]
  },
  {
   "cell_type": "code",
   "execution_count": 9,
   "metadata": {},
   "outputs": [],
   "source": [
    "location=extract_location_from_result(soup)"
   ]
  },
  {
   "cell_type": "code",
   "execution_count": 10,
   "metadata": {},
   "outputs": [],
   "source": [
    "def extract_salary_from_result(soup):\n",
    "    salaries = [] \n",
    "   \n",
    "    for city in cities:\n",
    "        for start in range(0, max_results_per_city, 10):\n",
    "            page=requests.get('https://www.indeed.fr/emplois?q=développeur%2C+data+scientist%2C+data+analyst%2C+business+intelligence&l=' + str(city) + '&start=' + str(start))\n",
    "            time.sleep(1)\n",
    "            soup = BeautifulSoup(page.text,\"lxml\",from_encoding=\"utf-8\")       \n",
    "            for span in soup.find_all(name=\"span\", attrs={\"class\":\"salaryText\"}): \n",
    "                salaries.append(span.text.strip())\n",
    "    return(salaries)\n",
    "\n",
    "#extract_salary_from_result(soup)\n"
   ]
  },
  {
   "cell_type": "code",
   "execution_count": 11,
   "metadata": {},
   "outputs": [],
   "source": [
    "salary=extract_salary_from_result(soup)"
   ]
  },
  {
   "cell_type": "code",
   "execution_count": 12,
   "metadata": {},
   "outputs": [],
   "source": [
    "def extract_summary_from_result(soup):\n",
    "    summaries = [] \n",
    "   \n",
    "    for city in cities:\n",
    "        for start in range(0, max_results_per_city, 10):\n",
    "            page=requests.get('https://www.indeed.fr/emplois?q=développeur%2C+data+scientist%2C+data+analyst%2C+business+intelligence&l=' + str(city) + '&start=' + str(start))\n",
    "            time.sleep(1)\n",
    "            soup = BeautifulSoup(page.text,\"lxml\",from_encoding=\"utf-8\")       \n",
    "            spans = soup.findAll('div', attrs={'class': 'summary'})\n",
    "            for span in spans:\n",
    "                summaries.append(span.text.strip())\n",
    "    return(summaries)\n",
    "#extract_summary_from_result(soup)"
   ]
  },
  {
   "cell_type": "code",
   "execution_count": 13,
   "metadata": {},
   "outputs": [],
   "source": [
    "sommary=extract_summary_from_result(soup)"
   ]
  },
  {
   "cell_type": "code",
   "execution_count": 17,
   "metadata": {},
   "outputs": [],
   "source": [
    "a=({'Titre': titre, 'Company': company, 'Location': location, 'Salary': salary, 'Summaries': sommary})\n",
    "df= pd.DataFrame.from_dict(a, orient='index')\n",
    "data=df.transpose()\n"
   ]
  },
  {
   "cell_type": "code",
   "execution_count": 19,
   "metadata": {},
   "outputs": [],
   "source": [
    "data.to_csv(\"~/Desktop/data_indeed.csv\" , sep=',', encoding='utf-8')"
   ]
  },
  {
   "cell_type": "code",
   "execution_count": 20,
   "metadata": {},
   "outputs": [],
   "source": [
    "data.drop_duplicates(inplace=True) #dropping duplicates\n",
    "data.Company.replace(regex=True,inplace=True,to_replace=\"\\n\",value=\"\") #getting rid of /n in company\n",
    "data.Salary.replace(regex=True, inplace=True, to_replace=\"\\$\", value=\"\") #getting rid of $ in salary"
   ]
  },
  {
   "cell_type": "code",
   "execution_count": 28,
   "metadata": {},
   "outputs": [
    {
     "data": {
      "text/plain": [
       "Titre          31\n",
       "Company         0\n",
       "Location     1906\n",
       "Salary       2818\n",
       "Summaries       2\n",
       "dtype: int64"
      ]
     },
     "execution_count": 28,
     "metadata": {},
     "output_type": "execute_result"
    }
   ],
   "source": [
    "data.isnull().sum() #shows total amount of null values for each column"
   ]
  },
  {
   "cell_type": "code",
   "execution_count": 29,
   "metadata": {},
   "outputs": [
    {
     "data": {
      "text/plain": [
       "Titre        object\n",
       "Company      object\n",
       "Location     object\n",
       "Salary       object\n",
       "Summaries    object\n",
       "dtype: object"
      ]
     },
     "execution_count": 29,
     "metadata": {},
     "output_type": "execute_result"
    }
   ],
   "source": [
    "data.dtypes"
   ]
  },
  {
   "cell_type": "code",
   "execution_count": 30,
   "metadata": {},
   "outputs": [
    {
     "data": {
      "text/plain": [
       "(3578, 5)"
      ]
     },
     "execution_count": 30,
     "metadata": {},
     "output_type": "execute_result"
    }
   ],
   "source": [
    "data.shape "
   ]
  },
  {
   "cell_type": "code",
   "execution_count": 31,
   "metadata": {},
   "outputs": [
    {
     "data": {
      "text/html": [
       "<div>\n",
       "<style scoped>\n",
       "    .dataframe tbody tr th:only-of-type {\n",
       "        vertical-align: middle;\n",
       "    }\n",
       "\n",
       "    .dataframe tbody tr th {\n",
       "        vertical-align: top;\n",
       "    }\n",
       "\n",
       "    .dataframe thead th {\n",
       "        text-align: right;\n",
       "    }\n",
       "</style>\n",
       "<table border=\"1\" class=\"dataframe\">\n",
       "  <thead>\n",
       "    <tr style=\"text-align: right;\">\n",
       "      <th></th>\n",
       "      <th>Titre</th>\n",
       "      <th>Company</th>\n",
       "      <th>Location</th>\n",
       "      <th>Salary</th>\n",
       "      <th>Summaries</th>\n",
       "    </tr>\n",
       "  </thead>\n",
       "  <tbody>\n",
       "    <tr>\n",
       "      <th>count</th>\n",
       "      <td>3547</td>\n",
       "      <td>3578</td>\n",
       "      <td>1672</td>\n",
       "      <td>760</td>\n",
       "      <td>3576</td>\n",
       "    </tr>\n",
       "    <tr>\n",
       "      <th>unique</th>\n",
       "      <td>1291</td>\n",
       "      <td>855</td>\n",
       "      <td>37</td>\n",
       "      <td>137</td>\n",
       "      <td>1332</td>\n",
       "    </tr>\n",
       "    <tr>\n",
       "      <th>top</th>\n",
       "      <td>(ALTERNANCE) Développeur Frontend - Chez l’un ...</td>\n",
       "      <td>OpenClassrooms</td>\n",
       "      <td>France</td>\n",
       "      <td>2 210 € - 2 500 € par mois</td>\n",
       "      <td>Euro Information, filiale Informatique du grou...</td>\n",
       "    </tr>\n",
       "    <tr>\n",
       "      <th>freq</th>\n",
       "      <td>163</td>\n",
       "      <td>671</td>\n",
       "      <td>590</td>\n",
       "      <td>99</td>\n",
       "      <td>145</td>\n",
       "    </tr>\n",
       "  </tbody>\n",
       "</table>\n",
       "</div>"
      ],
      "text/plain": [
       "                                                    Titre         Company  \\\n",
       "count                                                3547            3578   \n",
       "unique                                               1291             855   \n",
       "top     (ALTERNANCE) Développeur Frontend - Chez l’un ...  OpenClassrooms   \n",
       "freq                                                  163             671   \n",
       "\n",
       "       Location                      Salary  \\\n",
       "count      1672                         760   \n",
       "unique       37                         137   \n",
       "top      France  2 210 € - 2 500 € par mois   \n",
       "freq        590                          99   \n",
       "\n",
       "                                                Summaries  \n",
       "count                                                3576  \n",
       "unique                                               1332  \n",
       "top     Euro Information, filiale Informatique du grou...  \n",
       "freq                                                  145  "
      ]
     },
     "execution_count": 31,
     "metadata": {},
     "output_type": "execute_result"
    }
   ],
   "source": [
    "data.describe()"
   ]
  },
  {
   "cell_type": "code",
   "execution_count": 32,
   "metadata": {},
   "outputs": [
    {
     "data": {
      "text/plain": [
       "0"
      ]
     },
     "execution_count": 32,
     "metadata": {},
     "output_type": "execute_result"
    }
   ],
   "source": [
    "data.duplicated().sum()"
   ]
  },
  {
   "cell_type": "code",
   "execution_count": null,
   "metadata": {},
   "outputs": [],
   "source": []
  }
 ],
 "metadata": {
  "kernelspec": {
   "display_name": "Python 3",
   "language": "python",
   "name": "python3"
  },
  "language_info": {
   "codemirror_mode": {
    "name": "ipython",
    "version": 3
   },
   "file_extension": ".py",
   "mimetype": "text/x-python",
   "name": "python",
   "nbconvert_exporter": "python",
   "pygments_lexer": "ipython3",
   "version": "3.7.6"
  }
 },
 "nbformat": 4,
 "nbformat_minor": 4
}
