{
 "cells": [
  {
   "cell_type": "code",
   "execution_count": 36,
   "metadata": {},
   "outputs": [],
   "source": [
    "from bs4 import BeautifulSoup\n",
    "import requests\n",
    "import pandas as pd\n",
    "import requests\n",
    "import bs4\n",
    "from bs4 import BeautifulSoup\n",
    "import pandas as pd\n",
    "import time\n",
    "import numpy as np\n",
    "\n",
    "from requests import get "
   ]
  },
  {
   "cell_type": "code",
   "execution_count": 37,
   "metadata": {},
   "outputs": [
    {
     "name": "stdout",
     "output_type": "stream",
     "text": [
      "<!DOCTYPE html>\n",
      "<html lang=\"fr\" dir=\"ltr\">\n",
      "<head>\n",
      "<meta http-equiv=\"content-type\" content=\"text/html;charset=UTF-8\">\n",
      "<script type=\"text/javascript\" src=\"/s/d9309ae/fr_FR.js\"></script>\n",
      "<link href=\"/s/b512638/jobsearch_all.css\" rel=\"stylesheet\" type=\"text/css\">\n",
      "<link rel=\"alternate\" type=\"application/rss+xml\" title=\"Emploi Développeur, Data Scientist, Data Analyst, Business Intelligence - France - Travail\" href=\"http://www.indeed.fr/rss?q=d%C3%A9veloppeur%2C+data+scientist%2C+data+analyst%2C+busin\n"
     ]
    }
   ],
   "source": [
    "url='https://www.indeed.fr/emplois?q=développeur%2C+data+scientist%2C+data+analyst%2C+business+intelligence&l=France'\n",
    "response = get(url)\n",
    "print(response.text[:500])"
   ]
  },
  {
   "cell_type": "code",
   "execution_count": 38,
   "metadata": {},
   "outputs": [
    {
     "data": {
      "text/plain": [
       "bs4.BeautifulSoup"
      ]
     },
     "execution_count": 38,
     "metadata": {},
     "output_type": "execute_result"
    }
   ],
   "source": [
    "soup=BeautifulSoup(response.text,'html.parser')\n",
    "type(soup)"
   ]
  },
  {
   "cell_type": "code",
   "execution_count": 64,
   "metadata": {},
   "outputs": [],
   "source": [
    "dflocation = pd.DataFrame(columns=[\"location\"])\n",
    "dfcompany = pd.DataFrame(columns=[\"company\"])\n",
    "dfjob_title = pd.DataFrame(columns=[\"job_title\"])\n",
    "dfsalary = pd.DataFrame(columns=[\"salary\"])\n",
    "dfsummary= pd.DataFrame(columns=[\"summary\"])\n",
    "cities = ['Paris','Nancy','Lyon','Bordeaux','Metz','Toulouse','Marseille','Lille','Strasbourg','Nice']\n",
    "df = pd.DataFrame(columns=[\"location\", 'company', 'job_title', 'salary','summary'])\n",
    "max_results_per_city = 1000"
   ]
  },
  {
   "cell_type": "code",
   "execution_count": 65,
   "metadata": {},
   "outputs": [],
   "source": [
    "\n",
    "\n",
    "def extract_data(soup):\n",
    "    df = pd.DataFrame(columns=[\"location\", 'company', 'job_title', 'salary', 'summary'])\n",
    "    for city in cities:\n",
    "        for start in range(0, max_results_per_city, 10):\n",
    "            page=requests.get('https://www.indeed.fr/emplois?q=développeur%2C+data+scientist%2C+data+analyst%2C+business+intelligence&l=' + str(city) + '&start=' + str(start))\n",
    "            time.sleep(1)\n",
    "            soup = BeautifulSoup(page.text,\"lxml\",from_encoding=\"utf-8\")\n",
    "            for b in soup.find_all('span', {'class': 'location'}):\n",
    "                location = b.text\n",
    "                dflocation.loc[len(dflocation)] = [location]\n",
    "                #df.append({\"location\":location}, ignore_index=True)\n",
    "            for i in soup.find_all('span', {'class':'company'}):\n",
    "                company = i.text\n",
    "                dfcompany.loc[len(dfcompany)] = [company]\n",
    "                #df.append({\"company\":company}, ignore_index=True)\n",
    "            for a in soup.find_all('a', {'data-tn-element':'jobTitle'}):\n",
    "                job_title = a.text\n",
    "                dfjob_title.loc[len(dfjob_title)] = [job_title]\n",
    "                #df.append({\"job_title\": job_title}, ignore_index=True)\n",
    "            for c in soup.findAll('div', attrs={'class': 'summary'}):\n",
    "                summary = c.text.strip()\n",
    "                dfsummary.loc[len(dfsummary)] = [summary]\n",
    "                #df.append({\"summary\":summary}, ignore_index=True)\n",
    "            for entry in soup.find_all('td', {'class' : 'salaryText'}):\n",
    "                try:\n",
    "                    salary = entry.find('salaryText').text\n",
    "                    dfsalary.loc[len(dfsalary)] = [salary]  \n",
    "                except:\n",
    "                    salary = 'NA'\n",
    "                    dfsalary.loc[len(dfsalary)] = [salary]\n",
    "                    #df.append({\"salary\": salary}, ignore_index=True)\n",
    "    frames = [dflocation,dfcompany,dfsalary,dfjob_title,dfsummary]\n",
    "    df= pd.concat(frames)                \n",
    "    return(df)"
   ]
  },
  {
   "cell_type": "code",
   "execution_count": 66,
   "metadata": {},
   "outputs": [
    {
     "name": "stderr",
     "output_type": "stream",
     "text": [
      "/Users/charleshajjar/opt/anaconda3/lib/python3.7/site-packages/bs4/__init__.py:203: UserWarning: You provided Unicode markup but also provided a value for from_encoding. Your from_encoding will be ignored.\n",
      "  warnings.warn(\"You provided Unicode markup but also provided a value for from_encoding. Your from_encoding will be ignored.\")\n"
     ]
    },
    {
     "data": {
      "text/html": [
       "<div>\n",
       "<style scoped>\n",
       "    .dataframe tbody tr th:only-of-type {\n",
       "        vertical-align: middle;\n",
       "    }\n",
       "\n",
       "    .dataframe tbody tr th {\n",
       "        vertical-align: top;\n",
       "    }\n",
       "\n",
       "    .dataframe thead th {\n",
       "        text-align: right;\n",
       "    }\n",
       "</style>\n",
       "<table border=\"1\" class=\"dataframe\">\n",
       "  <thead>\n",
       "    <tr style=\"text-align: right;\">\n",
       "      <th></th>\n",
       "      <th>location</th>\n",
       "      <th>company</th>\n",
       "      <th>salary</th>\n",
       "      <th>job_title</th>\n",
       "      <th>summary</th>\n",
       "    </tr>\n",
       "  </thead>\n",
       "  <tbody>\n",
       "    <tr>\n",
       "      <th>0</th>\n",
       "      <td>Paris (75)</td>\n",
       "      <td>NaN</td>\n",
       "      <td>NaN</td>\n",
       "      <td>NaN</td>\n",
       "      <td>NaN</td>\n",
       "    </tr>\n",
       "    <tr>\n",
       "      <th>1</th>\n",
       "      <td>Paris (75)</td>\n",
       "      <td>NaN</td>\n",
       "      <td>NaN</td>\n",
       "      <td>NaN</td>\n",
       "      <td>NaN</td>\n",
       "    </tr>\n",
       "    <tr>\n",
       "      <th>2</th>\n",
       "      <td>Issy-les-Moulineaux (92)</td>\n",
       "      <td>NaN</td>\n",
       "      <td>NaN</td>\n",
       "      <td>NaN</td>\n",
       "      <td>NaN</td>\n",
       "    </tr>\n",
       "    <tr>\n",
       "      <th>3</th>\n",
       "      <td>Clichy (92)</td>\n",
       "      <td>NaN</td>\n",
       "      <td>NaN</td>\n",
       "      <td>NaN</td>\n",
       "      <td>NaN</td>\n",
       "    </tr>\n",
       "    <tr>\n",
       "      <th>4</th>\n",
       "      <td>Asnières-sur-Seine (92)</td>\n",
       "      <td>NaN</td>\n",
       "      <td>NaN</td>\n",
       "      <td>NaN</td>\n",
       "      <td>NaN</td>\n",
       "    </tr>\n",
       "    <tr>\n",
       "      <th>...</th>\n",
       "      <td>...</td>\n",
       "      <td>...</td>\n",
       "      <td>...</td>\n",
       "      <td>...</td>\n",
       "      <td>...</td>\n",
       "    </tr>\n",
       "    <tr>\n",
       "      <th>18645</th>\n",
       "      <td>NaN</td>\n",
       "      <td>NaN</td>\n",
       "      <td>NaN</td>\n",
       "      <td>NaN</td>\n",
       "      <td>Le business model et management innovant de So...</td>\n",
       "    </tr>\n",
       "    <tr>\n",
       "      <th>18646</th>\n",
       "      <td>NaN</td>\n",
       "      <td>NaN</td>\n",
       "      <td>NaN</td>\n",
       "      <td>NaN</td>\n",
       "      <td>Vous participez aux discussions avec les autre...</td>\n",
       "    </tr>\n",
       "    <tr>\n",
       "      <th>18647</th>\n",
       "      <td>NaN</td>\n",
       "      <td>NaN</td>\n",
       "      <td>NaN</td>\n",
       "      <td>NaN</td>\n",
       "      <td>Virtualisation: Comme utilisateur ou développe...</td>\n",
       "    </tr>\n",
       "    <tr>\n",
       "      <th>18648</th>\n",
       "      <td>NaN</td>\n",
       "      <td>NaN</td>\n",
       "      <td>NaN</td>\n",
       "      <td>NaN</td>\n",
       "      <td>La formation « Développeur d’Application Pytho...</td>\n",
       "    </tr>\n",
       "    <tr>\n",
       "      <th>18649</th>\n",
       "      <td>NaN</td>\n",
       "      <td>NaN</td>\n",
       "      <td>NaN</td>\n",
       "      <td>NaN</td>\n",
       "      <td>Développeur web full stack h/f ou similaire: 2...</td>\n",
       "    </tr>\n",
       "  </tbody>\n",
       "</table>\n",
       "<p>65850 rows × 5 columns</p>\n",
       "</div>"
      ],
      "text/plain": [
       "                       location company salary job_title  \\\n",
       "0                    Paris (75)     NaN    NaN       NaN   \n",
       "1                    Paris (75)     NaN    NaN       NaN   \n",
       "2      Issy-les-Moulineaux (92)     NaN    NaN       NaN   \n",
       "3                   Clichy (92)     NaN    NaN       NaN   \n",
       "4       Asnières-sur-Seine (92)     NaN    NaN       NaN   \n",
       "...                         ...     ...    ...       ...   \n",
       "18645                       NaN     NaN    NaN       NaN   \n",
       "18646                       NaN     NaN    NaN       NaN   \n",
       "18647                       NaN     NaN    NaN       NaN   \n",
       "18648                       NaN     NaN    NaN       NaN   \n",
       "18649                       NaN     NaN    NaN       NaN   \n",
       "\n",
       "                                                 summary  \n",
       "0                                                    NaN  \n",
       "1                                                    NaN  \n",
       "2                                                    NaN  \n",
       "3                                                    NaN  \n",
       "4                                                    NaN  \n",
       "...                                                  ...  \n",
       "18645  Le business model et management innovant de So...  \n",
       "18646  Vous participez aux discussions avec les autre...  \n",
       "18647  Virtualisation: Comme utilisateur ou développe...  \n",
       "18648  La formation « Développeur d’Application Pytho...  \n",
       "18649  Développeur web full stack h/f ou similaire: 2...  \n",
       "\n",
       "[65850 rows x 5 columns]"
      ]
     },
     "execution_count": 66,
     "metadata": {},
     "output_type": "execute_result"
    }
   ],
   "source": [
    "extract_data(soup)"
   ]
  },
  {
   "cell_type": "code",
   "execution_count": null,
   "metadata": {},
   "outputs": [
    {
     "name": "stderr",
     "output_type": "stream",
     "text": [
      "/Users/charleshajjar/opt/anaconda3/lib/python3.7/site-packages/bs4/__init__.py:203: UserWarning: You provided Unicode markup but also provided a value for from_encoding. Your from_encoding will be ignored.\n",
      "  warnings.warn(\"You provided Unicode markup but also provided a value for from_encoding. Your from_encoding will be ignored.\")\n"
     ]
    }
   ],
   "source": [
    "df=extract_data(soup)"
   ]
  },
  {
   "cell_type": "code",
   "execution_count": null,
   "metadata": {},
   "outputs": [],
   "source": []
  },
  {
   "cell_type": "code",
   "execution_count": null,
   "metadata": {},
   "outputs": [],
   "source": []
  },
  {
   "cell_type": "code",
   "execution_count": null,
   "metadata": {},
   "outputs": [],
   "source": [
    "\n"
   ]
  },
  {
   "cell_type": "code",
   "execution_count": null,
   "metadata": {},
   "outputs": [],
   "source": [
    "\n",
    "      "
   ]
  },
  {
   "cell_type": "code",
   "execution_count": null,
   "metadata": {},
   "outputs": [],
   "source": []
  },
  {
   "cell_type": "code",
   "execution_count": null,
   "metadata": {},
   "outputs": [],
   "source": []
  }
 ],
 "metadata": {
  "kernelspec": {
   "display_name": "Python 3",
   "language": "python",
   "name": "python3"
  },
  "language_info": {
   "codemirror_mode": {
    "name": "ipython",
    "version": 3
   },
   "file_extension": ".py",
   "mimetype": "text/x-python",
   "name": "python",
   "nbconvert_exporter": "python",
   "pygments_lexer": "ipython3",
   "version": "3.7.6"
  }
 },
 "nbformat": 4,
 "nbformat_minor": 4
}
